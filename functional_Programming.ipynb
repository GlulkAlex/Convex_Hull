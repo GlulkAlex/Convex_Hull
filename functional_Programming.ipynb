{
 "cells": [
  {
   "cell_type": "code",
   "execution_count": 8,
   "metadata": {
    "collapsed": true
   },
   "outputs": [],
   "source": [
    "%matplotlib inline\n",
    "#import matplotlib.pyplot as plt\n",
    "from matplotlib import pyplot# as plt"
   ]
  },
  {
   "cell_type": "code",
   "execution_count": 55,
   "metadata": {
    "collapsed": false
   },
   "outputs": [
    {
     "data": {
      "image/png": "[encoded data removed]",
      "text/plain": [
       "<matplotlib.figure.Figure at 0x7fa496474e48>"
      ]
     },
     "metadata": {},
     "output_type": "display_data"
    }
   ],
   "source": [
    "# Plot the `histogram`\n",
    "\"\"\"For the basic built-in colors, you can use a single letter:\n",
    "b: blue\n",
    "g: green\n",
    "r: red\n",
    "c: cyan\n",
    "m: magenta\n",
    "y: yellow\n",
    "k: black\n",
    "w: white\"\"\"\n",
    "\"\"\"Gray shades can be given as \n",
    "a string encoding a float \n",
    "in the 0-1 range, e.g.:\n",
    "color = '0.75'\n",
    "For a greater range of colors, \n",
    "you have two options. \n",
    "You can specify the color using an html hex string, \n",
    "as in:\n",
    "color = '#eeefff'\n",
    "or \n",
    "you can pass \n",
    "an R , G , B tuple, where \n",
    "each of R , G , B are \n",
    "in the range [0,1].\n",
    "Finally, \n",
    "legal html names for colors, like \n",
    "‘red’, ‘burlywood’ and ‘chartreuse’ are supported.\"\"\"\n",
    "#pyplot.plot(range(len(a)), a, 'b')\n",
    "#pyplot.plot(range(len(b)), b, 'g')\n",
    "#pyplot.plot(range(len(c)), c, 'r--')\n",
    "#pyplot.plot(range(len(d)), d, 'c')\n",
    "#pyplot.plot(range(len(e)), e, 'm', linewidth = 2.0)\n",
    "pyplot.plot([5.5, 7.2], [2.7, 3.4], 'bo')\n",
    "pyplot.plot([25.5, 17.2], [25.7, 31.4], 'go')\n",
    "pyplot.plot([85.5, 72.2], [54.7, 16.4], 'rs')\n",
    "pyplot.plot([54.7, 16.4], [85.5, 72.2], 'm^')\n",
    "pyplot.title('Functions growth rate') \n",
    "pyplot.ylabel('Y')\n",
    "pyplot.xlabel('X', fontsize=14, color='red')\n",
    "#pyplot.annotate('a', xy=(4, a[4]), color = 'blue' )\n",
    "#pyplot.annotate('b', xy=(4, b[4]), color = 'green' )\n",
    "#pyplot.annotate('c', xy=(4, c[4]), color = 'red' )\n",
    "#pyplot.annotate('d', xy=(2, d[2]), color = 'cyan' )\n",
    "#pyplot.annotate('e', xy=(3, e[3]), color = 'magenta' )\n",
    "#pyplot.axis([0, 10, 0, 50])\n",
    "pyplot.axis([0, 100, 0, 100])\n",
    "pyplot.grid(True)\n",
    "pyplot.show()"
   ]
  },
  {
   "cell_type": "code",
   "execution_count": 56,
   "metadata": {
    "collapsed": true
   },
   "outputs": [],
   "source": [
    "#import math\n",
    "from math import (log, log2)\n",
    "#math.log(x[, base])\n",
    "# With one argument, return the natural logarithm of x (to base e).\n",
    "# With two arguments, return the logarithm of x to the given base, calculated as log(x)/log(base)\n",
    "# 'x' is list index, 'y' is list value\n",
    "a = [x**0.5 for x in range(0, 1001, 1)]\n",
    "b = [x*10 for x in range(0, 1001, 1)]\n",
    "c = [x**1.5 for x in range(0, 1001, 1)]\n",
    "#ValueError: math domain error\n",
    "# Error shows likely means your doing `log` on '0'\n",
    "d = [2**(log(x)**0.5) for x in range(1, 1001, 1)]\n",
    "#x^(5/3)\n",
    "e = [x**(5/3) for x in range(0, 1001, 1)]"
   ]
  },
  {
   "cell_type": "code",
   "execution_count": 57,
   "metadata": {
    "collapsed": false
   },
   "outputs": [
    {
     "data": {
      "image/png": "[encoded data removed]",
      "text/plain": [
       "<matplotlib.figure.Figure at 0x7fa49641dc88>"
      ]
     },
     "metadata": {},
     "output_type": "display_data"
    }
   ],
   "source": [
    "# Plot the `histogram`\n",
    "pyplot.plot(range(len(a)), a)\n",
    "pyplot.plot(range(len(b)), b)\n",
    "pyplot.plot(range(len(c)), c, 'r--')\n",
    "pyplot.plot(range(len(d)), d)\n",
    "pyplot.plot(range(len(e)), e, linewidth=2.0)\n",
    "# red dashes, blue squares and green triangles\n",
    "#plt.plot(t, t, 'r--', t, t**2, 'bs', t, t**3, 'g^')\n",
    "pyplot.plot([100, 200, 300, 450], [1000, 4000, 9000, 16000], 'ro')\n",
    "pyplot.title('Functions growth rate') \n",
    "pyplot.ylabel('Y')\n",
    "pyplot.xlabel('X', fontsize=14, color='red')\n",
    "# 'TeX' expression surrounded by `dollar` signs\n",
    "pyplot.text(6, 40, r'$\\mu=100,\\ \\sigma=15$', fontsize=14, color='green')\n",
    "pyplot.annotate(\n",
    "    'local max', \n",
    "    xy=(2, 20), \n",
    "    xytext=(4, 30),\n",
    "    arrowprops=dict(facecolor='blue', shrink=0.05),\n",
    "            )\n",
    "# X, Y\n",
    "# works like `scale`\n",
    "#pyplot.axis([0, 500, 0, 20000])\n",
    "pyplot.axis([0, 10, 0, 50])\n",
    "pyplot.grid(True)\n",
    "pyplot.show()"
   ]
  },
  {
   "cell_type": "code",
   "execution_count": 58,
   "metadata": {
    "collapsed": false
   },
   "outputs": [
    {
     "data": {
      "image/png": "[encoded data removed]",
      "text/plain": [
       "<matplotlib.figure.Figure at 0x7fa49666a550>"
      ]
     },
     "metadata": {},
     "output_type": "display_data"
    }
   ],
   "source": [
    "# Convex Hull\n",
    "## Test case 1\n",
    "#\n",
    "## Plot the `histogram`\n",
    "pyplot.title('a set of points, in 2D plane') \n",
    "pyplot.ylabel('Y')\n",
    "pyplot.xlabel('X', fontsize=14, color='red')\n",
    "pyplot.axis(\n",
    "    #[0, 105, 0, 105]\n",
    "    [0, 7, 0, 7]\n",
    ")\n",
    "pyplot.grid(True)\n",
    "points_Test_Input1 = \"\"\"\\\n",
    "3 2\n",
    "2 5\n",
    "4 5\\\n",
    "\"\"\"\n",
    "# one list only for 'x'\n",
    "# second only for 'y'\n",
    "pyplot.plot(\n",
    "    [3, 2, 4], \n",
    "    [2, 5, 5], \n",
    "    'go',\n",
    "    markersize=10.0\n",
    ")\n",
    "pyplot.plot([2], [5], 'm^', markersize=15.0)\n",
    "# a convex polygon\n",
    "pyplot.plot(\n",
    "    [3, 2, 4, 3], \n",
    "    [2, 5, 5, 2], \n",
    "    color='cyan',\n",
    "    linewidth=3.0\n",
    ")\n",
    "pyplot.annotate(\n",
    "    'start', \n",
    "    xy=(2, 5), \n",
    "    xytext=(1, 4),\n",
    "    horizontalalignment='left',\n",
    "    verticalalignment='bottom',\n",
    "    arrowprops=dict(\n",
    "        facecolor='blue',\n",
    "        # the width of the arrow in points\n",
    "        width=2,\n",
    "        # the fraction of the arrow length occupied by the head\n",
    "        # is no longer supported\n",
    "        #frac=1,\n",
    "        # use 'headlength' to set the head length in points.\n",
    "        headlength = 15,\n",
    "        # the width of the base of the arrow head in points\n",
    "        headwidth = 7,\n",
    "        # move the tip and base \n",
    "        # some percent away \n",
    "        # from the annotated point and text\n",
    "        shrink=0.0\n",
    "    )\n",
    ")\n",
    "pyplot.show()"
   ]
  },
  {
   "cell_type": "code",
   "execution_count": 59,
   "metadata": {
    "collapsed": false
   },
   "outputs": [
    {
     "data": {
      "text/plain": [
       "<__main__.Employee at 0x7fa496712780>"
      ]
     },
     "execution_count": 59,
     "metadata": {},
     "output_type": "execute_result"
    }
   ],
   "source": [
    "class Employee:\n",
    "    pass\n",
    "\n",
    "john = Employee() # Create an empty employee record\n",
    "\n",
    "# Fill the fields of the record\n",
    "john.name = 'John Doe'\n",
    "john.dept = 'computer lab'\n",
    "john.salary = 1000\n",
    "\n",
    "john"
   ]
  },
  {
   "cell_type": "code",
   "execution_count": 1,
   "metadata": {
    "collapsed": true
   },
   "outputs": [],
   "source": [
    "class Coordinate:\n",
    "    def __init__(\n",
    "        self, \n",
    "        x: float, \n",
    "        y: float\n",
    "    ):\n",
    "        self.x = x\n",
    "        self.y = y\n",
    "    #TypeError: __repr__ returned non-string (type tuple)    \n",
    "    def __repr__(self) -> str:\n",
    "        \n",
    "        return str((self.x, self.y))\n",
    "    def __str__(self) -> str:\n",
    "        \n",
    "        return \"\"\"<x: {}, y: {}>\"\"\".format(self.x, self.y)"
   ]
  },
  {
   "cell_type": "code",
   "execution_count": 61,
   "metadata": {
    "collapsed": false
   },
   "outputs": [
    {
     "name": "stdout",
     "output_type": "stream",
     "text": [
      "<x: 1.0, y: 2.5>\n"
     ]
    },
    {
     "data": {
      "text/plain": [
       "((1.0, 2.5), __main__.Coordinate, True)"
      ]
     },
     "execution_count": 61,
     "metadata": {},
     "output_type": "execute_result"
    }
   ],
   "source": [
    "test_Point = Coordinate(1.0, 2.5)\n",
    "print(test_Point)\n",
    "(test_Point, type(test_Point), type(test_Point) is Coordinate)"
   ]
  },
  {
   "cell_type": "code",
   "execution_count": 62,
   "metadata": {
    "collapsed": false
   },
   "outputs": [],
   "source": [
    "#from typing import Tuple, Union#Callable\n",
    "\n",
    "def line_Length(\n",
    "    # of two float\n",
    "    start: tuple,#Tuple[Union[int, float], Union[int, float]], \n",
    "    end: tuple#Tuple[Union[int, float], Union[int, float]]\n",
    "               )-> float:\n",
    "    assert type(start) is tuple and start is not None\n",
    "    assert type(end) is tuple and start is not None\n",
    "    \n",
    "    (sX, sY) = start\n",
    "    (eX, eY) = end\n",
    "    \n",
    "    return ((sX - eX)**2 + (sY - eY)**2)**0.5"
   ]
  },
  {
   "cell_type": "code",
   "execution_count": 63,
   "metadata": {
    "collapsed": false
   },
   "outputs": [
    {
     "data": {
      "text/plain": [
       "8.32455532033676"
      ]
     },
     "execution_count": 63,
     "metadata": {},
     "output_type": "execute_result"
    }
   ],
   "source": [
    "### unit test ###\n",
    "points_Xs = [3, 2, 4, 3] \n",
    "points_Ys = [2, 5, 5, 2]\n",
    "\n",
    "expected_Perimeter = 8.3\n",
    "\n",
    "points_Coordinates = [Coordinate(pX, pY) for (pX, pY) in zip(points_Xs, points_Ys)]\n",
    "points_XY = list(zip(points_Xs, points_Ys))\n",
    "\n",
    "actual_Perimeter = sum(\n",
    "    [\n",
    "        line_Length(c, points_XY[indx + 1]) for (indx, c) in enumerate(points_XY) \n",
    "        if indx < len(points_XY) - 1\n",
    "    ]\n",
    ")\n",
    "\n",
    "actual_Perimeter\n",
    "#[(3, 2), (2, 5), (4, 5)]\n",
    "#list(zip(points_Xs, points_Ys))[:-1]\n",
    "#[(3, 2), (2, 5), (4, 5), (3, 2)]\n",
    "points_Coordinates\n",
    "actual_Perimeter"
   ]
  },
  {
   "cell_type": "code",
   "execution_count": 64,
   "metadata": {
    "collapsed": true
   },
   "outputs": [],
   "source": [
    "def hull_Start_Point(\n",
    "    points_Coordinates_List: list\n",
    ") -> Coordinate:\n",
    "    \"\"\"\n",
    "    \"\"\"\n",
    "    \n",
    "    assert len(points_Coordinates_List) > 0 \n",
    "    \n",
    "    is_DEBUG = (\n",
    "        True\n",
    "        #False\n",
    "    )\n",
    "    start_Point = points_Coordinates_List[0]\n",
    "    # min Y if tie pick on with min X\n",
    "    for (indx, point) in enumerate(points_Coordinates_List):\n",
    "        if start_Point.y > point.y:\n",
    "            start_Point = point\n",
    "        elif start_Point.y == point.y:\n",
    "            if start_Point.x > point.x:\n",
    "                start_Point = point\n",
    "        \n",
    "    return start_Point"
   ]
  },
  {
   "cell_type": "code",
   "execution_count": 65,
   "metadata": {
    "collapsed": false
   },
   "outputs": [
    {
     "data": {
      "text/plain": [
       "(3, 2)"
      ]
     },
     "execution_count": 65,
     "metadata": {},
     "output_type": "execute_result"
    }
   ],
   "source": [
    "### unit test ###\n",
    "hull_Start_Point(points_Coordinates)"
   ]
  },
  {
   "cell_type": "code",
   "execution_count": 21,
   "metadata": {
    "collapsed": true
   },
   "outputs": [],
   "source": [
    "\"\"\"\n",
    "Slope\n",
    "===\n",
    "[from](https://en.wikipedia.org/wiki/Slope)\n",
    "---\n",
    "In mathematics, \n",
    "the `slope` or `gradient` of a line is \n",
    "a number \n",
    "that describes both \n",
    "the `direction` and \n",
    "the `steepness` of the line. \n",
    "`Slope` is often denoted by the letter 'm'.\n",
    "The `direction` of a `line` is either \n",
    "increasing, \n",
    "decreasing, \n",
    "horizontal or \n",
    "vertical.\n",
    "- A line is `increasing` \n",
    " if it goes `up` \n",
    " from `left` to `right`. \n",
    " The `slope` is `positive`, i.e. (m > 0).\n",
    "- A line is `decreasing` \n",
    " if it goes `down` \n",
    " from `left` to `right`. \n",
    " The `slope` is `negative`, i.e. (m < 0).\n",
    "- If a line is `horizontal` \n",
    " the `slope` is `zero`. \n",
    " This is a constant function.\n",
    "- If a line is `vertical` \n",
    " the `slope` is undefined (see below).\n",
    "The `steepness`, `incline`, or `grade` \n",
    "of a `line` is measured \n",
    "by the absolute value of the `slope`. \n",
    "A `slope` with a greater absolute value \n",
    "indicates a `steeper` `line`.\n",
    "\n",
    "Slope =  Change in Y / Change in X\n",
    "\"\"\"\n",
    "def slope(\n",
    "    line_Start: Coordinate,\n",
    "    line_End: Coordinate\n",
    "):\n",
    "    #Option[\n",
    "    # \"undefined\" -> (Vertical), \n",
    "    # 0 -> (Horizontal), \n",
    "    # < 0 -> (line goes down)\n",
    "    # > 0 -> (line goes up)\n",
    "    #] \n",
    "    result = None\n",
    "    # Rise (or Fall) and Run\n",
    "    # Change in Y\n",
    "    delta_X = line_End.x - line_Start.x\n",
    "    # Change in X\n",
    "    delta_Y = line_End.y - line_Start.y\n",
    "    \n",
    "    if (delta_X == 0):\n",
    "        # \"undefined\" -> (Vertical)\n",
    "        result = None\n",
    "    elif (delta_Y == 0):\n",
    "        # 0 -> (Horizontal) \n",
    "        result = 0\n",
    "    else:\n",
    "        result = delta_Y / delta_X\n",
    "        \n",
    "    return result"
   ]
  },
  {
   "cell_type": "code",
   "execution_count": 104,
   "metadata": {
    "collapsed": false
   },
   "outputs": [
    {
     "data": {
      "text/plain": [
       "[(1.0, 1),\n",
       " (2.0, 2),\n",
       " (0.6, 0.6),\n",
       " (-2.0, -2),\n",
       " (-4.0, 'x < -2, -4 ?'),\n",
       " (0, 0),\n",
       " (0, '0 -> horizontal'),\n",
       " (None, 'undefined'),\n",
       " (None, 'undefined')]"
      ]
     },
     "execution_count": 104,
     "metadata": {},
     "output_type": "execute_result"
    }
   ],
   "source": [
    "### unit test ###\n",
    "[    \n",
    "    (\n",
    "        slope(\n",
    "            Coordinate(0, 0),\n",
    "            Coordinate(3, 3)\n",
    "        ),\n",
    "        1\n",
    "    ),                \n",
    "    (\n",
    "        slope(\n",
    "            Coordinate(0, 0),\n",
    "            Coordinate(2, 4)\n",
    "        ),\n",
    "        2\n",
    "    ),                \n",
    "    (\n",
    "        slope(\n",
    "            Coordinate(0, 0),\n",
    "            Coordinate(5, 3)\n",
    "        ),\n",
    "        0.6\n",
    "    ),                \n",
    "    (\n",
    "        slope(\n",
    "            Coordinate(0, 0),\n",
    "            Coordinate(2, -4)\n",
    "        ),\n",
    "        -2\n",
    "    ),                \n",
    "    (\n",
    "        slope(\n",
    "            Coordinate(0, 0),\n",
    "            Coordinate(2, -8)\n",
    "        ),\n",
    "        'x < -2, -4 ?'\n",
    "    ),                \n",
    "    (\n",
    "        slope(\n",
    "            Coordinate(0, 0),\n",
    "            Coordinate(5, 0)\n",
    "        ),\n",
    "        0\n",
    "    ),                \n",
    "    (\n",
    "        slope(\n",
    "            Coordinate(0, 0),\n",
    "            Coordinate(-5, 0)\n",
    "        ),\n",
    "        '0 -> horizontal'\n",
    "    ),                \n",
    "    (\n",
    "        slope(\n",
    "            Coordinate(0, 0),\n",
    "            Coordinate(0, 3)\n",
    "        ),\n",
    "        \"undefined\"\n",
    "    ),                \n",
    "    (\n",
    "        slope(\n",
    "            Coordinate(0, 0),\n",
    "            Coordinate(0, -3)\n",
    "        ),\n",
    "        \"undefined\"\n",
    "    )                \n",
    "]"
   ]
  },
  {
   "cell_type": "code",
   "execution_count": 68,
   "metadata": {
    "collapsed": false
   },
   "outputs": [
    {
     "data": {
      "image/png": "[encoded data removed]",
      "text/plain": [
       "<matplotlib.figure.Figure at 0x7fa4965f7710>"
      ]
     },
     "metadata": {},
     "output_type": "display_data"
    },
    {
     "data": {
      "image/png": "[encoded data removed]",
      "text/plain": [
       "<matplotlib.figure.Figure at 0x7fa4962ec978>"
      ]
     },
     "metadata": {},
     "output_type": "display_data"
    }
   ],
   "source": [
    "from matplotlib.path import Path\n",
    "import matplotlib.patches as patches\n",
    "\n",
    "pyplot.title('Slope', family='monospace', color='blue') \n",
    "pyplot.ylabel('Y-axis', color='green')\n",
    "pyplot.xlabel('X-axis', fontsize=14, color='red')\n",
    "#AttributeError: 'function' object has no attribute 'set_xlim'\n",
    "##pyplot.axis.set_xlim(-5,10)\n",
    "pyplot.axvline(linewidth=2, color='r')\n",
    "pyplot.axhline(linewidth=2, color='green')\n",
    "pyplot.grid(True)\n",
    "\n",
    "pyplot.annotate(\n",
    "    'I', \n",
    "    xy=(5, 5),\n",
    "    fontsize='xx-large',\n",
    "    family='fantasy',\n",
    "    #xytext=(0.2, 0.2),\n",
    "    #arrowprops=dict(facecolor='blue', shrink=0.05),\n",
    ")\n",
    "pyplot.annotate(\n",
    "    'II', \n",
    "    xy=(-5, 5),\n",
    "    #style or fontstyle\t[ ‘normal’ | ‘italic’ | ‘oblique’]\n",
    "    #fontstyle='oblique'\n",
    "    #font\n",
    "    family='monospace',\n",
    "    fontsize='xx-large',\n",
    "    fontweight='roman',\n",
    "    fontstretch='extra-expanded',\n",
    "    backgroundcolor='yellow'\n",
    ")\n",
    "pyplot.annotate(\n",
    "    'III', \n",
    "    xy=(-5, -5),\n",
    "    family='fantasy',\n",
    "    fontsize='xx-large',\n",
    "    backgroundcolor='yellow'\n",
    ")\n",
    "pyplot.annotate(\n",
    "    'IV', \n",
    "    xy=(5, -5),\n",
    "    family='fantasy',\n",
    "    fontsize='xx-large',\n",
    "    backgroundcolor='yellow'\n",
    ")\n",
    "pyplot.plot([0], [0], 'bo', markersize=10.0 )\n",
    "pyplot.plot([2], [5], 'go', markersize=5.0 )\n",
    "pyplot.plot([5], [2], 'co', markersize=5.0 )\n",
    "pyplot.plot(\n",
    "    [0, 2], \n",
    "    [0, 5], \n",
    "    color='b'\n",
    ")\n",
    "pyplot.plot(\n",
    "    [0, 5], \n",
    "    [0, 2], \n",
    "    color='m'\n",
    ")\n",
    "pyplot.plot(\n",
    "    [0 + 2, 5 + 2], \n",
    "    [0 + 5, 2 + 5], \n",
    "    color='m'\n",
    ")\n",
    "pyplot.plot(\n",
    "    [2, 2 + 2], \n",
    "    [5, 5 + 5], \n",
    "    color='g'\n",
    ")\n",
    "pyplot.axhspan(4.8, 5, facecolor='0.5', alpha=0.5)\n",
    "\n",
    "path_Nodes = [\n",
    "    (0., 0.),  # P0\n",
    "    (0.2, 1.), # P1\n",
    "    (1., 0.8), # P2\n",
    "    (0.8, 0.), # P3\n",
    "]\n",
    "\n",
    "path_Codes = [\n",
    "    Path.MOVETO,\n",
    "    Path.CURVE4,\n",
    "    Path.CURVE4,\n",
    "    Path.CURVE4,\n",
    "]\n",
    "\n",
    "path = Path(path_Nodes, path_Codes)\n",
    "\n",
    "\"\"\" both crate a new subplot \"\"\"\n",
    "fig = pyplot.figure()\n",
    "#ax = fig.add_subplot(111)\n",
    "ax = fig.add_subplot(\n",
    "    # two rows, one column, first plot\n",
    "    2,1,1\n",
    ") \n",
    "#(fig, ax) = pyplot.subplots()\n",
    "\n",
    "patch = patches.PathPatch(path, facecolor='orange', lw=2)\n",
    "ax.add_patch(patch)\n",
    "\n",
    "xs, ys = zip(*path_Nodes)\n",
    "ax.plot(xs, ys, 'x--', lw=2, color='black', ms=10)\n",
    "\n",
    "ax.text(-0.05, -0.05, 'P0')\n",
    "ax.text(0.15, 1.05, 'P1')\n",
    "ax.text(1.05, 0.85, 'P2')\n",
    "ax.text(0.85, -0.05, 'P3')\n",
    "\n",
    "#ax.set_xlim(-2,2)\n",
    "#ax.set_ylim(-2,2)\n",
    "# returns a Text instance\n",
    "xtext = ax.set_xlabel('my xdata') \n",
    "\n",
    "pyplot.axis(\n",
    "    'equal'\n",
    ")\n",
    "pyplot.axis(\n",
    "    [-10, 10, -10, 10],\n",
    ")\n",
    "\n",
    "pyplot.show()"
   ]
  },
  {
   "cell_type": "code",
   "execution_count": 69,
   "metadata": {
    "collapsed": false
   },
   "outputs": [
    {
     "data": {
      "image/svg+xml": [
       "<svg height=\"500\" width=\"500\" xmlns=\"http://www.w3.org/2000/svg\" xmlns:xlink=\"http://www.w3.org/1999/xlink\">\n",
       "    <style>\n",
       "        .classA { fill:red }\n",
       "    </style> \n",
       "    <defs>\n",
       "        <!-- markerWidth & markerHeight scale marker -->\n",
       "        <marker fill=\"context-fill\" id=\"Triangle\" markerHeight=\"10\" markerWidth=\"10\" orient=\"auto\" refX=\"15\" refY=\"5\" viewBox=\"0 0 15 10\">\n",
       "            <path d=\"M 0 0 L 15 5 L 0 10 L 5 5 z\"/>\n",
       "        </marker>\n",
       "    </defs>\n",
       "    <defs>\n",
       "        <g id=\"Port\">\n",
       "          <circle r=\"3\" style=\"fill:inherit\"/>\n",
       "        </g>\n",
       "    </defs>\n",
       "    <defs>\n",
       "        <g id=\"x_Gauge\">\n",
       "          <path d=\"M 0 0 v5 v-10\"/>\n",
       "        </g>\n",
       "        <g id=\"y_Gauge\">\n",
       "          <path d=\"M 0 0 h5 h-10\"/>\n",
       "        </g>\n",
       "    </defs>\n",
       "    <path d=\"M 250 50 l -150 300\" fill=\"none\" id=\"lineAB\" marker-end=\"url(#Triangle)\" stroke=\"red\" stroke-width=\"3\"/>\n",
       "    <path d=\"M 250 50 l 150 300\" fill=\"none\" id=\"lineBC\" marker-end=\"url(#Triangle)\" stroke=\"red\" stroke-width=\"3\"/>\n",
       "    <path d=\"M 175 200 l 150 0\" fill=\"none\" stroke=\"green\" stroke-width=\"3\"/>\n",
       "    <path d=\"M 100 350 q 150 -300 300 0\" fill=\"none\" stroke=\"blue\" stroke-width=\"5\"/>\n",
       "    <!-- Mark relevant points -->\n",
       "    <g fill=\"black\" stroke=\"black\" stroke-width=\"3\">\n",
       "        <circle cx=\"100\" cy=\"350\" id=\"pointA\" r=\"3\"/>\n",
       "        <circle cx=\"250\" cy=\"50\" id=\"pointB\" r=\"3\"/>\n",
       "        <circle cx=\"400\" cy=\"350\" id=\"pointC\" r=\"3\"/>\n",
       "    </g>\n",
       "    <!-- Label the points -->\n",
       "    <g fill=\"black\" font-family=\"sans-serif\" font-size=\"30\" stroke=\"none\" text-anchor=\"middle\">\n",
       "        <text dx=\"-30\" x=\"100\" y=\"350\">A</text>\n",
       "        <text dy=\"-10\" x=\"250\" y=\"50\">B</text>\n",
       "        <text dx=\"30\" x=\"400\" y=\"350\">C</text>\n",
       "    </g>\n",
       "    <!--polyline points=\"0,40 40,40 40,80 80,80 80,120 120,120 120,160\"\n",
       "      style=\"fill:white;stroke:red;stroke-width:4\" />\n",
       "    <ellipse cx=\"200\" cy=\"80\" rx=\"100\" ry=\"50\"\n",
       "      style=\"fill:yellow;stroke:purple;stroke-width:2\" /-->\n",
       "    <!--circle cx=\"50\" cy=\"50\" r=\"40\" stroke=\"black\" stroke-width=\"3\" fill=\"red\" /-->\n",
       "    <g fill=\"cyan\" stroke=\"black\" stroke-width=\"2\">\n",
       "        <line marker-end=\"url(#Triangle)\" paint-order=\"stroke fill markers\" x1=\"0\" x2=\"500\" y1=\"450\" y2=\"450\"/>\n",
       "        <line marker-end=\"url(#Triangle)\" paint-order=\"stroke fill markers\" x1=\"50\" x2=\"50\" y1=\"500\" y2=\"0\"/>\n",
       "    </g>\n",
       "    <path d=\"M 250 50 L 175 200 a 150,150 1 0,0 150,0 z\" fill=\"#F7931E\" fill-opacity=\"0.5\" stroke=\"blue\" stroke-width=\"2\"/>\n",
       "    <g fill=\"cyan\" stroke=\"blue\" stroke-width=\"2\">  \n",
       "        <circle cx=\"250\" cy=\"50\" id=\"point_1\" r=\"3\"/>\n",
       "        <circle cx=\"175\" cy=\"200\" id=\"point_2\" r=\"3\"/>\n",
       "        <circle cx=\"325\" cy=\"200\" id=\"point_3\" r=\"3\"/>\n",
       "        <!-- `use` not work without xmlns:xlink attr in svg tag -->\n",
       "        <use class=\"classA\" x=\"325\" xlink:href=\"#Port\" y=\"200\"/>\n",
       "    </g>\n",
       "    <line stroke=\"Orange\" stroke-width=\"2\" x1=\"100\" x2=\"270\" y1=\"500\" y2=\"0\"/>\n",
       "    <g fill=\"cyan\" stroke=\"gray\" stroke-width=\"1\">\n",
       "        <use class=\"classA\" x=\"100\" xlink:href=\"#x_Gauge\" y=\"450\"/>\n",
       "        <use x=\"150\" xlink:href=\"#x_Gauge\" y=\"450\"/>\n",
       "        <use x=\"200\" xlink:href=\"#x_Gauge\" y=\"450\"/>\n",
       "        <use x=\"250\" xlink:href=\"#x_Gauge\" y=\"450\"/>\n",
       "        <use x=\"300\" xlink:href=\"#x_Gauge\" y=\"450\"/>\n",
       "        <use x=\"350\" xlink:href=\"#x_Gauge\" y=\"450\"/>\n",
       "        <use x=\"400\" xlink:href=\"#x_Gauge\" y=\"450\"/>            \n",
       "        <use x=\"450\" xlink:href=\"#x_Gauge\" y=\"450\"/>\n",
       "        <use x=\"50\" xlink:href=\"#y_Gauge\" y=\"50\"/>\n",
       "        <use x=\"50\" xlink:href=\"#y_Gauge\" y=\"100\"/>\n",
       "        <use x=\"50\" xlink:href=\"#y_Gauge\" y=\"150\"/>\n",
       "        <use x=\"50\" xlink:href=\"#y_Gauge\" y=\"200\"/>\n",
       "        <use x=\"50\" xlink:href=\"#y_Gauge\" y=\"250\"/>\n",
       "        <use x=\"50\" xlink:href=\"#y_Gauge\" y=\"300\"/>\n",
       "        <use x=\"50\" xlink:href=\"#y_Gauge\" y=\"350\"/>\n",
       "        <use x=\"50\" xlink:href=\"#y_Gauge\" y=\"400\"/>            \n",
       "        <use x=\"50\" xlink:href=\"#y_Gauge\" y=\"450\"/>\n",
       "    </g>\n",
       "</svg>"
      ],
      "text/plain": [
       "<IPython.core.display.SVG object>"
      ]
     },
     "metadata": {},
     "output_type": "display_data"
    }
   ],
   "source": [
    "%%svg\n",
    "<svg height=\"500\" width=\"500\"\n",
    "xmlns=\"http://www.w3.org/2000/svg\" \n",
    "xmlns:xlink=\"http://www.w3.org/1999/xlink\">\n",
    "    <style>\n",
    "        .classA { fill:red }\n",
    "    </style> \n",
    "    <defs>\n",
    "        <!-- markerWidth & markerHeight scale marker -->\n",
    "        <marker id=\"Triangle\"\n",
    "                viewBox=\"0 0 15 10\" \n",
    "                refX=\"15\" refY=\"5\"\n",
    "                markerWidth=\"10\" markerHeight=\"10\"\n",
    "                orient=\"auto\" fill=\"context-fill\" >\n",
    "            <path d=\"M 0 0 L 15 5 L 0 10 L 5 5 z\" />\n",
    "        </marker>\n",
    "    </defs>\n",
    "    <defs>\n",
    "        <g id=\"Port\">\n",
    "          <circle style=\"fill:inherit\" r=\"3\"/>\n",
    "        </g>\n",
    "    </defs>\n",
    "    <defs>\n",
    "        <g id=\"x_Gauge\">\n",
    "          <path d=\"M 0 0 v5 v-10\"/>\n",
    "        </g>\n",
    "        <g id=\"y_Gauge\">\n",
    "          <path d=\"M 0 0 h5 h-10\"/>\n",
    "        </g>\n",
    "    </defs>\n",
    "    <path id=\"lineAB\" d=\"M 250 50 l -150 300\" stroke=\"red\"\n",
    "      stroke-width=\"3\" fill=\"none\" marker-end=\"url(#Triangle)\" />\n",
    "    <path id=\"lineBC\" d=\"M 250 50 l 150 300\" \n",
    "        stroke=\"red\"\n",
    "        stroke-width=\"3\" fill=\"none\" marker-end=\"url(#Triangle)\" />\n",
    "    <path d=\"M 175 200 l 150 0\" stroke=\"green\" stroke-width=\"3\"\n",
    "      fill=\"none\" />\n",
    "    <path d=\"M 100 350 q 150 -300 300 0\" stroke=\"blue\"\n",
    "      stroke-width=\"5\" fill=\"none\" />\n",
    "    <!-- Mark relevant points -->\n",
    "    <g stroke=\"black\" stroke-width=\"3\" fill=\"black\">\n",
    "        <circle id=\"pointA\" cx=\"100\" cy=\"350\" r=\"3\" />\n",
    "        <circle id=\"pointB\" cx=\"250\" cy=\"50\" r=\"3\" />\n",
    "        <circle id=\"pointC\" cx=\"400\" cy=\"350\" r=\"3\" />\n",
    "    </g>\n",
    "    <!-- Label the points -->\n",
    "    <g font-size=\"30\" font-family=\"sans-serif\" fill=\"black\" stroke=\"none\"\n",
    "    text-anchor=\"middle\">\n",
    "        <text x=\"100\" y=\"350\" dx=\"-30\">A</text>\n",
    "        <text x=\"250\" y=\"50\" dy=\"-10\">B</text>\n",
    "        <text x=\"400\" y=\"350\" dx=\"30\">C</text>\n",
    "    </g>\n",
    "    <!--polyline points=\"0,40 40,40 40,80 80,80 80,120 120,120 120,160\"\n",
    "      style=\"fill:white;stroke:red;stroke-width:4\" />\n",
    "    <ellipse cx=\"200\" cy=\"80\" rx=\"100\" ry=\"50\"\n",
    "      style=\"fill:yellow;stroke:purple;stroke-width:2\" /-->\n",
    "    <!--circle cx=\"50\" cy=\"50\" r=\"40\" stroke=\"black\" stroke-width=\"3\" fill=\"red\" /-->\n",
    "    <g stroke=\"black\" stroke-width=\"2\" fill=\"cyan\">\n",
    "        <line x1=\"0\" y1=\"450\" x2=\"500\" y2=\"450\" \n",
    "        marker-end=\"url(#Triangle)\" paint-order=\"stroke fill markers\" />\n",
    "        <line x1=\"50\" y1=\"500\" x2=\"50\" y2=\"0\" \n",
    "        marker-end=\"url(#Triangle)\" paint-order=\"stroke fill markers\" />\n",
    "    </g>\n",
    "    <path d=\"M 250 50 L 175 200 a 150,150 1 0,0 150,0 z\"\n",
    "    fill=\"#F7931E\" stroke=\"blue\" stroke-width=\"2\" fill-opacity=\"0.5\"/>\n",
    "    <g stroke=\"blue\" stroke-width=\"2\" fill=\"cyan\">  \n",
    "        <circle id=\"point_1\" cx=\"250\" cy=\"50\" r=\"3\" />\n",
    "        <circle id=\"point_2\" cx=\"175\" cy=\"200\" r=\"3\" />\n",
    "        <circle id=\"point_3\" cx=\"325\" cy=\"200\" r=\"3\" />\n",
    "        <!-- `use` not work without xmlns:xlink attr in svg tag -->\n",
    "        <use x=\"325\" y=\"200\" xlink:href=\"#Port\" class=\"classA\" />\n",
    "    </g>\n",
    "    <line x1=\"100\" y1=\"500\" x2=\"270\" y2=\"0\" \n",
    "    stroke-width=\"2\" stroke=\"Orange\" />\n",
    "    <g stroke=\"gray\" stroke-width=\"1\" fill=\"cyan\">\n",
    "        <use x=\"100\" y=\"450\" xlink:href=\"#x_Gauge\" class=\"classA\" />\n",
    "        <use x=\"150\" y=\"450\" xlink:href=\"#x_Gauge\" />\n",
    "        <use x=\"200\" y=\"450\" xlink:href=\"#x_Gauge\" />\n",
    "        <use x=\"250\" y=\"450\" xlink:href=\"#x_Gauge\" />\n",
    "        <use x=\"300\" y=\"450\" xlink:href=\"#x_Gauge\" />\n",
    "        <use x=\"350\" y=\"450\" xlink:href=\"#x_Gauge\" />\n",
    "        <use x=\"400\" y=\"450\" xlink:href=\"#x_Gauge\" />            \n",
    "        <use x=\"450\" y=\"450\" xlink:href=\"#x_Gauge\" />\n",
    "        <use x=\"50\" y=\"50\" xlink:href=\"#y_Gauge\" />\n",
    "        <use x=\"50\" y=\"100\" xlink:href=\"#y_Gauge\" />\n",
    "        <use x=\"50\" y=\"150\" xlink:href=\"#y_Gauge\" />\n",
    "        <use x=\"50\" y=\"200\" xlink:href=\"#y_Gauge\" />\n",
    "        <use x=\"50\" y=\"250\" xlink:href=\"#y_Gauge\" />\n",
    "        <use x=\"50\" y=\"300\" xlink:href=\"#y_Gauge\" />\n",
    "        <use x=\"50\" y=\"350\" xlink:href=\"#y_Gauge\" />\n",
    "        <use x=\"50\" y=\"400\" xlink:href=\"#y_Gauge\" />            \n",
    "        <use x=\"50\" y=\"450\" xlink:href=\"#y_Gauge\" />\n",
    "    </g>\n",
    "</svg>"
   ]
  },
  {
   "cell_type": "code",
   "execution_count": 70,
   "metadata": {
    "collapsed": false
   },
   "outputs": [
    {
     "data": {
      "text/plain": [
       "True"
      ]
     },
     "execution_count": 70,
     "metadata": {},
     "output_type": "execute_result"
    }
   ],
   "source": [
    "# from https://en.wikipedia.org/wiki/Polar_coordinate_system\n",
    "# The Cartesian coordinates x and y \n",
    "# can be converted to polar coordinates r and ϕ \n",
    "# with r ≥ 0 and ϕ in the interval (−π, π] \n",
    "\"\"\"\n",
    "math.atan2(y, x)\n",
    "Return atan(y / x), in radians. \n",
    "The result is between -pi and pi. \n",
    "The vector in the plane \n",
    "from the origin \n",
    "to point (x, y) \n",
    "makes this angle with the positive X axis. \n",
    "The point of atan2() is that \n",
    "the signs of both inputs are known to it, \n",
    "so \n",
    "it can compute the correct quadrant for the angle. \n",
    "For example, \n",
    "atan(1) and atan2(1, 1) are both pi/4, \n",
    "but atan2(-1, -1) is -3*pi/4.\n",
    "\"\"\"\n",
    "True"
   ]
  },
  {
   "cell_type": "code",
   "execution_count": 71,
   "metadata": {
    "collapsed": true
   },
   "outputs": [],
   "source": [
    "\"\"\"\n",
    "[from](https://en.wikipedia.org/wiki/Graham_scan)\n",
    "Video from Coursera - Princeton University - Course: Algorithms, Part I\n",
    "[from](http://algs4.cs.princeton.edu/21elementary/)\n",
    "\"\"\"\n",
    "# Three points are \n",
    "# a `counter-clockwise` turn if \n",
    "\"\"\"\n",
    "    b\n",
    "   / \\\n",
    "  />0 \\\n",
    " c <-  a <-\n",
    "\"\"\"\n",
    "# ccw > 0, \n",
    "# `clockwise` if\n",
    "\"\"\"\n",
    "    b\n",
    "   / \\\n",
    "  /<0 \\\n",
    " a ->  c ->\n",
    "\"\"\"\n",
    "# ccw < 0, and \n",
    "# `collinear` if ccw = 0 \n",
    "\"\"\"\n",
    " b\n",
    " |\n",
    " c = 0\n",
    " |\n",
    " a\n",
    "\"\"\"\n",
    "# because ccw is a `determinant` \n",
    "# that gives \n",
    "# twice the `signed area` \n",
    "# of the triangle \n",
    "# formed by p1, p2 and p3.\n",
    "#                     |ax, ay, 1| \n",
    "# 2 * area(a, b, c) = |bx, by, 1|\n",
    "#                     |cx, cy, 1|\n",
    "# 2 * area(a, b, c) = (bx - ax)*(cy - ay) - (by - ay)*(cx - ax)\n",
    "def is_Clockwise(\n",
    "    point_1: Coordinate, \n",
    "    point_2: Coordinate, \n",
    "    point_3: Coordinate\n",
    ") -> float:#int:\n",
    "    \n",
    "    return (\n",
    "        (point_2.x - point_1.x)*(point_3.y - point_1.y) - \n",
    "        (point_2.y - point_1.y)*(point_3.x - point_1.x)\n",
    "    )"
   ]
  },
  {
   "cell_type": "code",
   "execution_count": 72,
   "metadata": {
    "collapsed": false
   },
   "outputs": [
    {
     "data": {
      "text/plain": [
       "([(1, 1), (2, 5), (3, 3), (5, 3), (3, 2), (2, 2)],\n",
       " [(1, 1), (2, 5), (3, 3), (5, 3), (3, 2), (2, 2)],\n",
       " 5,\n",
       " [0, 0, -6, 4, -3, 1])"
      ]
     },
     "execution_count": 72,
     "metadata": {},
     "output_type": "execute_result"
    }
   ],
   "source": [
    "# unit test #\n",
    "test_Points_Xs = [1, 2, 3, 5, 3, 2]\n",
    "test_Points_Ys = [1, 5, 3, 3, 2, 2]\n",
    "test_Points = list(zip(test_Points_Xs, test_Points_Ys))\n",
    "test_Points_Coordinates = [Coordinate(x, y) for (x, y) in test_Points] \n",
    "# 0 -> 5 -> 2\n",
    "# 0 -> 4 -> 3\n",
    "#(1, 1)\n",
    "#test_Points[0]\n",
    "test_Results = []\n",
    "test_Results.append(is_Clockwise(\n",
    "    test_Points_Coordinates[0], \n",
    "    test_Points_Coordinates[5], \n",
    "    test_Points_Coordinates[2]\n",
    ")) \n",
    "test_Results.append(is_Clockwise(\n",
    "    point_1 = test_Points_Coordinates[0], \n",
    "    point_2 = test_Points_Coordinates[4], \n",
    "    point_3 = test_Points_Coordinates[3]\n",
    "))\n",
    "# 3, 1, 2 -> 2, 0, 1\n",
    "# 3, 1, 4 -> 2, 0, 3\n",
    "test_Results.append(is_Clockwise(\n",
    "    point_1 = test_Points_Coordinates[2], \n",
    "    point_2 = test_Points_Coordinates[0], \n",
    "    point_3 = test_Points_Coordinates[1]\n",
    ")) \n",
    "test_Results.append(is_Clockwise(\n",
    "    point_1 = test_Points_Coordinates[2], \n",
    "    point_2 = test_Points_Coordinates[0], \n",
    "    point_3 = test_Points_Coordinates[3]\n",
    "))\n",
    "# 5, 0, 1\n",
    "# 5, 0, 4\n",
    "test_Results.append(is_Clockwise(\n",
    "    point_1 = test_Points_Coordinates[5], \n",
    "    point_2 = test_Points_Coordinates[0], \n",
    "    point_3 = test_Points_Coordinates[1]\n",
    ")) \n",
    "test_Results.append(is_Clockwise(\n",
    "    point_1 = test_Points_Coordinates[5], \n",
    "    point_2 = test_Points_Coordinates[0], \n",
    "    point_3 = test_Points_Coordinates[4]\n",
    "))\n",
    "\n",
    "(test_Points, test_Points_Coordinates, test_Points_Coordinates[3].x, test_Results)"
   ]
  },
  {
   "cell_type": "code",
   "execution_count": 3,
   "metadata": {
    "collapsed": true
   },
   "outputs": [],
   "source": [
    "from enum import Enum\n",
    "\n",
    "class Turn_Direction(Enum):\n",
    "    left = 1\n",
    "    right = 2\n",
    "    collinear = 3"
   ]
  },
  {
   "cell_type": "code",
   "execution_count": 4,
   "metadata": {
    "collapsed": false
   },
   "outputs": [],
   "source": [
    "def get_Turn_Direction(\n",
    "    point_A: Coordinate,\n",
    "    # joint, center \n",
    "    point_B: Coordinate, \n",
    "    point_C: Coordinate\n",
    ") -> Turn_Direction:\n",
    "    \"\"\"\n",
    "            a       \n",
    "            |\n",
    "        <-  |\n",
    "           \\|/\n",
    "    c<------b\n",
    "   \n",
    "    a       \n",
    "    |\n",
    "    |  ->\n",
    "   \\|/\n",
    "    b------>c\n",
    "   \n",
    "    a------>b------>c\n",
    "    \"\"\"\n",
    "    result = Turn_Direction.collinear\n",
    "    precision_Limit = 0.001\n",
    "    \n",
    "    signed_Area_Twice = (\n",
    "        (point_B.x - point_A.x)*(point_C.y - point_A.y) - \n",
    "        (point_B.y - point_A.y)*(point_C.x - point_A.x)\n",
    "    )\n",
    "    \n",
    "    area_Twice = signed_Area_Twice\n",
    "    if area_Twice < 0:\n",
    "        area_Twice = -area_Twice\n",
    "        \n",
    "    if area_Twice < precision_Limit:\n",
    "        result = Turn_Direction.collinear\n",
    "    elif signed_Area_Twice < 0: \n",
    "        result = Turn_Direction.right\n",
    "    else:  \n",
    "        result = Turn_Direction.left\n",
    "\n",
    "    return result"
   ]
  },
  {
   "cell_type": "code",
   "execution_count": 75,
   "metadata": {
    "collapsed": false
   },
   "outputs": [
    {
     "data": {
      "text/plain": [
       "[<Turn_Direction.collinear: 3>,\n",
       " <Turn_Direction.collinear: 3>,\n",
       " <Turn_Direction.collinear: 3>,\n",
       " <Turn_Direction.right: 2>,\n",
       " <Turn_Direction.left: 1>,\n",
       " <Turn_Direction.right: 2>,\n",
       " <Turn_Direction.left: 1>]"
      ]
     },
     "execution_count": 75,
     "metadata": {},
     "output_type": "execute_result"
    }
   ],
   "source": [
    "# unit test #\n",
    "test_Points_Xs = [1, 2, 3, 5, 3, 2]\n",
    "test_Points_Ys = [1, 5, 3, 3, 2, 2]\n",
    "test_Points = list(zip(test_Points_Xs, test_Points_Ys))\n",
    "test_Points_Coordinates = [Coordinate(x, y) for (x, y) in test_Points] \n",
    "# 0 -> 5 -> 2\n",
    "# 0 -> 4 -> 3\n",
    "#(1, 1)\n",
    "#test_Points[0]\n",
    "test_Results = []\n",
    "test_Results.append(get_Turn_Direction(\n",
    "    point_A = test_Points_Coordinates[0], \n",
    "    point_B = test_Points_Coordinates[5], \n",
    "    point_C = test_Points_Coordinates[2]\n",
    ")) \n",
    "test_Results.append(get_Turn_Direction(\n",
    "    point_A = test_Points_Coordinates[0], \n",
    "    point_B = test_Points_Coordinates[4], \n",
    "    point_C = test_Points_Coordinates[3]\n",
    "))\n",
    "test_Results.append(get_Turn_Direction(\n",
    "    point_A = test_Points_Coordinates[4], \n",
    "    point_B = test_Points_Coordinates[0], \n",
    "    point_C = test_Points_Coordinates[3]\n",
    "))\n",
    "# 3, 1, 2 -> 2, 0, 1\n",
    "# 3, 1, 4 -> 2, 0, 3\n",
    "test_Results.append(get_Turn_Direction(\n",
    "    point_A = test_Points_Coordinates[2], \n",
    "    point_B = test_Points_Coordinates[0], \n",
    "    point_C = test_Points_Coordinates[1]\n",
    ")) \n",
    "test_Results.append(get_Turn_Direction(\n",
    "    point_A = test_Points_Coordinates[2], \n",
    "    point_B = test_Points_Coordinates[0], \n",
    "    point_C = test_Points_Coordinates[3]\n",
    "))\n",
    "# 5, 0, 1\n",
    "# 5, 0, 4\n",
    "test_Results.append(get_Turn_Direction(\n",
    "    point_A = test_Points_Coordinates[5], \n",
    "    point_B = test_Points_Coordinates[0], \n",
    "    point_C = test_Points_Coordinates[1]\n",
    ")) \n",
    "test_Results.append(get_Turn_Direction(\n",
    "    point_A = test_Points_Coordinates[5], \n",
    "    point_B = test_Points_Coordinates[0], \n",
    "    point_C = test_Points_Coordinates[4]\n",
    "))\n",
    "\n",
    "test_Results"
   ]
  },
  {
   "cell_type": "code",
   "execution_count": 76,
   "metadata": {
    "collapsed": false
   },
   "outputs": [],
   "source": [
    "\"\"\"\n",
    "    a       \n",
    "    /\\ \n",
    "e* /  \\ *f\n",
    "  / *d \\\n",
    "c*------*b\n",
    "    *g\n",
    "\"\"\"\n",
    "def is_In_ABC(\n",
    "    point_A: Coordinate, \n",
    "    point_B: Coordinate, \n",
    "    point_C: Coordinate,\n",
    "    #target_Point\n",
    "    point_T: Coordinate\n",
    ") -> bool:\n",
    "    \"\"\"\n",
    "    assume that\n",
    "    `inside` not include (convex) hull / perimiter\n",
    "    otherwise \n",
    "    in case when\n",
    "    T collinear with one of (AB, BC, AC)\n",
    "    for example let it be AB\n",
    "    if Ax == Bx (vertical line)\n",
    "        Ty must be <= (A, B) max y and >= (A, B) min y\n",
    "    else\n",
    "        Tx must be <= (A, B) max x and >= (A, B) min x\n",
    "    \"\"\"\n",
    "    result = False\n",
    "    \n",
    "    assert get_Turn_Direction(\n",
    "            point_A,\n",
    "            point_B,\n",
    "            point_C\n",
    "        ) != Turn_Direction.collinear\n",
    "    \n",
    "    # (BA, AT) vs. (BA, AC)\n",
    "    if (\n",
    "        get_Turn_Direction(\n",
    "            point_B,\n",
    "            point_A,\n",
    "            point_T\n",
    "        ) == get_Turn_Direction(\n",
    "            point_B,\n",
    "            point_A,\n",
    "            point_C\n",
    "        )\n",
    "    ):\n",
    "        # (CB, BT) vs. (CB, BA)\n",
    "        if (\n",
    "            get_Turn_Direction(\n",
    "                point_C,\n",
    "                point_B,\n",
    "                point_T\n",
    "            ) == get_Turn_Direction(\n",
    "                point_C,\n",
    "                point_B,\n",
    "                point_A\n",
    "            )\n",
    "        ):\n",
    "            # (AC, CT) vs. (AC, CB)\n",
    "            if (\n",
    "                get_Turn_Direction(\n",
    "                    point_A,\n",
    "                    point_C,\n",
    "                    point_T\n",
    "                ) == get_Turn_Direction(\n",
    "                    point_A,\n",
    "                    point_C,\n",
    "                    point_B\n",
    "                )\n",
    "            ):\n",
    "                result = True\n",
    "            else:\n",
    "                result = False\n",
    "        else:\n",
    "            result = False\n",
    "    else:\n",
    "        result = False\n",
    "    \n",
    "    return result"
   ]
  },
  {
   "cell_type": "code",
   "execution_count": 77,
   "metadata": {
    "collapsed": false
   },
   "outputs": [
    {
     "data": {
      "text/plain": [
       "[True, False, True, True, False, True, False]"
      ]
     },
     "execution_count": 77,
     "metadata": {},
     "output_type": "execute_result"
    }
   ],
   "source": [
    "# unit test #\n",
    "# check 5, 2\n",
    "# in (0, 1, 4), (0, 1, 3), (1, 3, 4)\n",
    "test_Results = []\n",
    "test_Results.append(\n",
    "    is_In_ABC(\n",
    "        test_Points_Coordinates[0], \n",
    "        test_Points_Coordinates[1], \n",
    "        test_Points_Coordinates[4],\n",
    "        test_Points_Coordinates[5]\n",
    "    )\n",
    ") \n",
    "test_Results.append(\n",
    "    is_In_ABC(\n",
    "        test_Points_Coordinates[0], \n",
    "        test_Points_Coordinates[1], \n",
    "        test_Points_Coordinates[4],\n",
    "        test_Points_Coordinates[2]\n",
    "    )\n",
    ")\n",
    "test_Results.append(\n",
    "    is_In_ABC(\n",
    "        test_Points_Coordinates[0], \n",
    "        test_Points_Coordinates[1], \n",
    "        test_Points_Coordinates[3],\n",
    "        test_Points_Coordinates[5]\n",
    "    )\n",
    ") \n",
    "test_Results.append(\n",
    "    is_In_ABC(\n",
    "        test_Points_Coordinates[0], \n",
    "        test_Points_Coordinates[1], \n",
    "        test_Points_Coordinates[3],\n",
    "        test_Points_Coordinates[2]\n",
    "    )\n",
    ")\n",
    "test_Results.append(\n",
    "    is_In_ABC(\n",
    "        test_Points_Coordinates[1], \n",
    "        test_Points_Coordinates[3], \n",
    "        test_Points_Coordinates[4],\n",
    "        test_Points_Coordinates[5]\n",
    "    )\n",
    ") \n",
    "test_Results.append(\n",
    "    is_In_ABC(\n",
    "        test_Points_Coordinates[1], \n",
    "        test_Points_Coordinates[3], \n",
    "        test_Points_Coordinates[4],\n",
    "        test_Points_Coordinates[2]\n",
    "    )\n",
    ")\n",
    "# on the Hull\n",
    "# (0, 1, 3) & 4\n",
    "test_Results.append(\n",
    "    is_In_ABC(\n",
    "        test_Points_Coordinates[0], \n",
    "        test_Points_Coordinates[1], \n",
    "        test_Points_Coordinates[3],\n",
    "        test_Points_Coordinates[4]\n",
    "    )\n",
    ")\n",
    "\n",
    "test_Results"
   ]
  },
  {
   "cell_type": "code",
   "execution_count": 78,
   "metadata": {
    "collapsed": true
   },
   "outputs": [],
   "source": [
    "\"\"\"\n",
    "assume\n",
    "- at last 3 distinct points\n",
    "- that are no `collinear`(on a line)\n",
    "\"\"\"\n",
    "def convex_Hull_Graham_Scan(\n",
    "    points_Coordinates_List: list,\n",
    "    left_Most_Start_Point: tuple#Coordinate\n",
    ") -> list:\n",
    "    \"\"\"\n",
    "    \"\"\"\n",
    "    is_DEBUG = (\n",
    "        True\n",
    "        #False\n",
    "    )\n",
    "    hull_Points_List = list()\n",
    "    # min Y if tie pick on with min X\n",
    "    left_Most_Lower_Start_Point = hull_Start_Point(points_Coordinates_List)\n",
    "    \n",
    "    return hull_Points_List"
   ]
  },
  {
   "cell_type": "code",
   "execution_count": 247,
   "metadata": {
    "collapsed": false
   },
   "outputs": [
    {
     "data": {
      "image/png": "[encoded data removed]",
      "text/plain": [
       "<matplotlib.figure.Figure at 0x7fa495f90f98>"
      ]
     },
     "metadata": {},
     "output_type": "display_data"
    },
    {
     "data": {
      "image/png": "[encoded data removed]",
      "text/plain": [
       "<matplotlib.figure.Figure at 0x7fa495f0e208>"
      ]
     },
     "metadata": {},
     "output_type": "display_data"
    },
    {
     "data": {
      "image/png": "[encoded data removed]",
      "text/plain": [
       "<matplotlib.figure.Figure at 0x7fa495eda908>"
      ]
     },
     "metadata": {},
     "output_type": "display_data"
    },
    {
     "data": {
      "image/png": "[encoded data removed]",
      "text/plain": [
       "<matplotlib.figure.Figure at 0x7fa4960462b0>"
      ]
     },
     "metadata": {},
     "output_type": "display_data"
    },
    {
     "data": {
      "image/png": "[encoded data removed]",
      "text/plain": [
       "<matplotlib.figure.Figure at 0x7fa495ea0fd0>"
      ]
     },
     "metadata": {},
     "output_type": "display_data"
    }
   ],
   "source": [
    "# bounding rectangle box\n",
    "fig = pyplot.figure(\n",
    "    1, (6.0, 6.0)\n",
    ")\n",
    "#ax = fig.add_subplot(111)\n",
    "#ValueError: num must be 1 <= num <= 25, not 0\n",
    "ax = fig.add_subplot(1,1,1) \n",
    "#fig.close()\n",
    "#pyplot.title('box case 1', family='monospace', color='blue') \n",
    "ax.set_title('box case 1', family='monospace', color='blue')\n",
    "#pyplot.ylabel('Y-axis', family='monospace', color='gray')\n",
    "ytext = ax.set_ylabel('Y-axis', family='monospace', color='gray')\n",
    "#pyplot.xlabel('X-axis', family='monospace', fontsize=14, color='gray')\n",
    "xtext = ax.set_xlabel('X-axis', family='monospace', fontsize=14, color='gray')\n",
    "\n",
    "#AttributeError: 'function' object has no attribute 'set_xlim'\n",
    "##pyplot.axis.set_xlim(-5,10)\n",
    "ax.axvline(linewidth=2, color='r')\n",
    "ax.axhline(linewidth=2, color='green')\n",
    "ax.grid(True)\n",
    "\n",
    "ax.annotate(\n",
    "    '1', \n",
    "    xy=(4, 4),\n",
    "    #style or fontstyle\t[ ‘normal’ | ‘italic’ | ‘oblique’]\n",
    "    #fontstyle='oblique'\n",
    "    #font\n",
    "    family='monospace',\n",
    "    fontsize='xx-large',\n",
    "    fontweight='roman',\n",
    "    fontstretch='extra-expanded',\n",
    "    backgroundcolor='yellow'\n",
    ")\n",
    "ax.annotate(\n",
    "    '2', \n",
    "    xy=(4.5, 1.5),backgroundcolor='yellow')\n",
    "ax.annotate(\n",
    "    '3', \n",
    "    xy=(1.2, 1.2),backgroundcolor='yellow')\n",
    "ax.annotate(\n",
    "    '4', \n",
    "    xy=(1.2, 4),backgroundcolor='yellow')\n",
    "path_Nodes = [\n",
    "    (1, 5),  # A1\n",
    "    (5, 5), # B1\n",
    "    (5, 1), # C1\n",
    "    (1, 1), # D1\n",
    "    (1, 5),  # A1\n",
    "]\n",
    "(xs, ys) = zip(*path_Nodes)\n",
    "ax.plot(\n",
    "    xs, \n",
    "    ys, \n",
    "    color='b'\n",
    ")\n",
    "ax.plot(xs[0], ys[0], 'bs', markersize=4.0 )\n",
    "ax.plot(xs[1], ys[1], 'g*', markersize=4.0 )\n",
    "ax.plot(xs[2], ys[2], 'cs', markersize=4.0 )\n",
    "ax.plot(xs[3], ys[3], 'm*', markersize=4.0 )\n",
    "ax.annotate(\n",
    "    'A1', \n",
    "    xy=path_Nodes[0],\n",
    "    xytext=(path_Nodes[0][0] + 0.1, path_Nodes[0][1] + 0.1)\n",
    ")\n",
    "ax.annotate(\n",
    "    'B1', \n",
    "    xy=path_Nodes[1],\n",
    "    xytext=(path_Nodes[1][0] + 0.1, path_Nodes[1][1] + 0.1)\n",
    ")\n",
    "ax.annotate(\n",
    "    'C1', \n",
    "    xy=path_Nodes[2],\n",
    "    xytext=(path_Nodes[2][0] + 0.1, path_Nodes[2][1] - 0.5)\n",
    ")\n",
    "ax.annotate(\n",
    "    'D1', \n",
    "    xy=path_Nodes[3],\n",
    "    xytext=(path_Nodes[3][0] + 0.1, path_Nodes[3][1] - 0.5)\n",
    ")\n",
    "\n",
    "hull_Extreme_Points = [\n",
    "    (1, 2),  # A\n",
    "    (2, 5), # B\n",
    "    (5, 2), # C\n",
    "    (2, 1), # D\n",
    "    (1, 2),  # A\n",
    "]\n",
    "(xs, ys) = zip(*hull_Extreme_Points)\n",
    "# AC\n",
    "ax.plot([xs[0], xs[2]], [ys[0], ys[2]], 'x--', lw=2, color='black', ms=10)\n",
    "\n",
    "ax.plot(xs[0], ys[0], 'bo', markersize=10.0 )\n",
    "ax.plot(xs[1], ys[1], 'go', markersize=5.0 )\n",
    "ax.plot(xs[2], ys[2], 'co', markersize=5.0 )\n",
    "ax.plot(xs[3], ys[3], 'mo', markersize=5.0 )\n",
    "ax.annotate(\n",
    "    'A', \n",
    "    xy=path_Nodes[0],\n",
    "    xytext=(hull_Extreme_Points[0][0] + 0.1, hull_Extreme_Points[0][1] + 0.1),\n",
    "    color='red'\n",
    ")\n",
    "ax.annotate(\n",
    "    'B', \n",
    "    xy=path_Nodes[1],\n",
    "    xytext=(hull_Extreme_Points[1][0] + 0.1, hull_Extreme_Points[1][1] + 0.1),\n",
    "    color='red'\n",
    ")\n",
    "ax.annotate(\n",
    "    'C', \n",
    "    xy=path_Nodes[2],\n",
    "    xytext=(hull_Extreme_Points[2][0] + 0.1, hull_Extreme_Points[2][1] - 0.5),\n",
    "    color='red'\n",
    ")\n",
    "ax.annotate(\n",
    "    'D', \n",
    "    xy=path_Nodes[3],\n",
    "    xytext=(hull_Extreme_Points[3][0] + 0.1, hull_Extreme_Points[3][1] - 0.5),\n",
    "    color='red'\n",
    ")\n",
    "\n",
    "ax.plot(\n",
    "    xs, \n",
    "    ys, \n",
    "    color='m'\n",
    ")\n",
    "\n",
    "ax.set_aspect('equal')\n",
    "ax.set_xlim(0,6)\n",
    "ax.set_ylim(0,6)\n",
    "\n",
    "#fig = pyplot.figure()\n",
    "fig = pyplot.figure(\n",
    "    2, (6.0, 6.0)\n",
    ")\n",
    "#ax = fig.add_subplot(111)\n",
    "ax = fig.add_subplot(\n",
    "    # two rows, one column, first plot\n",
    "    # ValueError: num must be 1 <= num <= 1, not 2\n",
    "    1,1,1\n",
    "    #1, 2, 2\n",
    ") \n",
    "#(fig, ax) = pyplot.subplots()\n",
    "\n",
    "(xs, ys) = zip(*path_Nodes)\n",
    "ax.plot(xs, ys, 'x--', lw=2, color='gray', ms=10)\n",
    "\n",
    "x_off_Set = 0.1\n",
    "y_off_Set = 0.3\n",
    "ax.text(path_Nodes[0][0] + x_off_Set, path_Nodes[0][1] + x_off_Set, 'A1')\n",
    "ax.text(path_Nodes[1][0] + x_off_Set, path_Nodes[1][1] + x_off_Set, 'B1')\n",
    "ax.text(path_Nodes[2][0] + x_off_Set, path_Nodes[2][1] - y_off_Set, 'C1')\n",
    "ax.text(path_Nodes[3][0] + x_off_Set, path_Nodes[3][1] - y_off_Set, 'D1')\n",
    "\n",
    "hull_Extreme_Points = [\n",
    "    (1, 2),  # A\n",
    "    (2, 5), # B\n",
    "    (5, 1), # C\n",
    "    (5, 1), # D\n",
    "    (1, 2),  # A\n",
    "]\n",
    "(xs, ys) = zip(*hull_Extreme_Points)\n",
    "ax.plot(xs[0], ys[0], 'bo', markersize=10.0 )\n",
    "ax.plot(xs[1], ys[1], 'go', markersize=5.0 )\n",
    "ax.plot(xs[2], ys[2], 'co', markersize=5.0 )\n",
    "# AC\n",
    "ax.plot([xs[0], xs[2]], [ys[0], ys[2]], 'x--', lw=2, color='black', ms=10)\n",
    "\n",
    "ax.plot(\n",
    "    xs, \n",
    "    ys, \n",
    "    color='m'\n",
    ")\n",
    "\n",
    "ax.set_xlim(0,6)\n",
    "ax.set_ylim(0,6)\n",
    "\n",
    "# returns a Text instance\n",
    "xtext = ax.set_xlabel('x')\n",
    "ytext = ax.set_ylabel('y')\n",
    "ax.set_title('box case 2', family='monospace', color='blue')\n",
    "ax.grid(True)\n",
    "#AttributeError: 'AxesSubplot' object has no attribute 'aspect'\n",
    "ax.set_aspect('equal')\n",
    "\n",
    "fig = pyplot.figure(\n",
    "    3, (6.0, 6.0)\n",
    ")\n",
    "ax = fig.add_subplot(\n",
    "    # two rows, one column, first plot\n",
    "    # 1 row in between previous plot ?\n",
    "    1,1,1\n",
    "    #1, 2, 2\n",
    ") \n",
    "\"\"\" subplot(nrows, ncols, plot_number) \"\"\"\n",
    "#(fig, ax) = pyplot.subplots()\n",
    "\n",
    "(xs, ys) = zip(*path_Nodes)\n",
    "ax.plot(xs, ys, 'x--', lw=2, color='grey', ms=10)\n",
    "\n",
    "hull_Extreme_Points = [\n",
    "    (2, 2),  # A\n",
    "    (1, 5), # B\n",
    "    (5, 1), # C\n",
    "    (5, 1), # D\n",
    "    (2, 2),  # A\n",
    "]\n",
    "(xs, ys) = zip(*hull_Extreme_Points)\n",
    "ax.plot(xs[0], ys[0], 'bo', markersize=10.0 )\n",
    "ax.plot(xs[1], ys[1], 'go', markersize=5.0 )\n",
    "ax.plot(xs[2], ys[2], 'co', markersize=5.0 )\n",
    "# AC\n",
    "ax.plot([xs[1], xs[2]], [ys[1], ys[2]], 'x--', lw=2, color='black', ms=10)\n",
    "\n",
    "ax.plot(\n",
    "    xs, \n",
    "    ys, \n",
    "    color='m'\n",
    ")\n",
    "ax.plot(\n",
    "    [1, 2], \n",
    "    [1, 2], \n",
    "    'x--', \n",
    "    color='r',\n",
    "    lw=2\n",
    ")\n",
    "ax.plot(1.5, 2.5, 'ro', markersize=4.0 )\n",
    "ax.plot(2.5, 1.5, 'ro', markersize=4.0 )\n",
    "ax.plot(4, 4, 'ro', markersize=4.0 )\n",
    "ax.plot(\n",
    "    [xs[1], 4, xs[2], 2.5, 1.5, xs[1]], \n",
    "    [ys[1], 4, ys[2], 1.5, 2.5, ys[1]], \n",
    "    color='green',\n",
    "    lw=2\n",
    ")\n",
    "\n",
    "xtext = ax.set_xlabel('x')\n",
    "ytext = ax.set_ylabel('y')\n",
    "ax.set_title('box case 3', family='monospace', color='blue')\n",
    "ax.grid(True)\n",
    "ax.set_xlim(0,6)\n",
    "ax.set_ylim(0,6)\n",
    "ax.set_aspect('equal')\n",
    "\n",
    "fig = pyplot.figure(\n",
    "    4, (6.0, 6.0)\n",
    ")\n",
    "ax = fig.add_subplot(1,1,1) \n",
    "\n",
    "(xs, ys) = zip(*path_Nodes)\n",
    "ax.plot(xs, ys, 'x--', lw=2, color='grey', ms=10)\n",
    "\n",
    "hull_Extreme_Points = [\n",
    "    (1, 1),  # A\n",
    "    (2, 5), # B\n",
    "    (5, 1), # C\n",
    "    (5, 1), # D\n",
    "    (1, 1),  # A\n",
    "]\n",
    "(xs, ys) = zip(*hull_Extreme_Points)\n",
    "ax.plot(xs[0], ys[0], 'bo', markersize=10.0 )\n",
    "ax.plot(xs[1], ys[1], 'go', markersize=5.0 )\n",
    "ax.plot(xs[2], ys[2], 'co', markersize=5.0 )\n",
    "\n",
    "ax.plot(\n",
    "    xs, \n",
    "    ys, \n",
    "    color='m'\n",
    ")\n",
    "\n",
    "xtext = ax.set_xlabel('x')\n",
    "ytext = ax.set_ylabel('y')\n",
    "ax.set_title('box case 4', family='monospace', color='blue')\n",
    "ax.grid(True)\n",
    "ax.set_xlim(0,6)\n",
    "ax.set_ylim(0,6)\n",
    "ax.set_aspect('equal')\n",
    "\n",
    "fig = pyplot.figure(\n",
    "    5, (6.0, 6.0)\n",
    ")\n",
    "ax = fig.add_subplot(1,1,1) \n",
    "\n",
    "(xs, ys) = zip(*path_Nodes)\n",
    "ax.plot(xs, ys, 'x--', lw=2, color='grey', ms=10)\n",
    "\n",
    "hull_Extreme_Points = [\n",
    "    (1, 1),  # A\n",
    "    (1, 5), # B\n",
    "    (5, 1), # C\n",
    "    (5, 1), # D\n",
    "    (1, 1),  # A\n",
    "]\n",
    "(xs, ys) = zip(*hull_Extreme_Points)\n",
    "ax.plot(xs[0], ys[0], 'bo', markersize=10.0 )\n",
    "ax.plot(xs[1], ys[1], 'go', markersize=5.0 )\n",
    "ax.plot(xs[2], ys[2], 'co', markersize=5.0 )\n",
    "# AC\n",
    "ax.plot([xs[0], xs[2]], [ys[0], ys[2]], 'x--', lw=2, color='black', ms=10)\n",
    "\n",
    "ax.plot(\n",
    "    xs, \n",
    "    ys, \n",
    "    color='m'\n",
    ")\n",
    "\n",
    "xtext = ax.set_xlabel('x')\n",
    "ytext = ax.set_ylabel('y')\n",
    "ax.set_title('box case 5', family='monospace', color='blue')\n",
    "ax.grid(True)\n",
    "ax.set_xlim(0,6)\n",
    "ax.set_ylim(0,6)\n",
    "ax.set_aspect('equal')\n",
    "\n",
    "# legend((line1, line2, line3), ('label1', 'label2', 'label3'))\n",
    "#ax\n",
    "#pyplot.legend(['A simple line'])\n",
    "\n",
    "\"\"\"\n",
    "axes(rect, axisbg='w') \n",
    "where \n",
    "rect = [left, bottom, width, height] ???\n",
    "(more likely [x-Start, x-End, y-Start, y-End]\n",
    "as the limit ranges (xmax-xmin) and (ymax-ymin))\n",
    "in normalized (0, 1) units. \n",
    "axisbg is \n",
    "the background color for the axis, \n",
    "default white.\n",
    "\"\"\"\n",
    "# margins(x=xmargin, y=ymargin)\n",
    "#print(pyplot.margins())\n",
    "#pyplot.axis(\n",
    "#    [-1, 7, -1, 6],\n",
    "    #`aspect` [str | num] [‘equal’, ‘auto’] or a number. \n",
    "    #aspect=0.5#'equal'\n",
    "#)\n",
    "# conflicting / override boundaries / scale\n",
    "#pyplot.axis('equal')\n",
    "#pyplot.margins(1.0, 1.0)\n",
    "#pyplot.autoscale(\n",
    "#    enable=False,#True, \n",
    "#    axis='both', \n",
    "#    tight=(\n",
    "#        #True\n",
    "#        None\n",
    "#    )\n",
    "#)\n",
    "#AttributeError: 'module' object has no attribute 'set_xlim'\n",
    "#pyplot.set_xlim(-1,8)\n",
    "#pyplot.set_ylim(-1,8)\n",
    "#ax = pyplot.axes()\n",
    "\n",
    "#pyplot.draw()\n",
    "pyplot.show()"
   ]
  },
  {
   "cell_type": "code",
   "execution_count": 105,
   "metadata": {
    "collapsed": false
   },
   "outputs": [],
   "source": [
    "# an extreme point of the convex hull\n",
    "def get_Distant_Points(\n",
    "    points_Coordinates_List: list,\n",
    "    is_DEBUG: bool = False\n",
    ") -> tuple:#list<of Coordinate>:\n",
    "    \"\"\"\n",
    "    interesting consequence\n",
    "    if only 3 distinct points found\n",
    "    they are -> convex hull\n",
    "    and all others are within\n",
    "    or on convex hull\n",
    "    \"\"\"\n",
    "    \n",
    "    assert len(points_Coordinates_List) > 3 \n",
    "    \n",
    "    distant_Points_Set = set()\n",
    "    \"\"\" X preveal \"\"\"\n",
    "    # ? upper left corner ?\n",
    "    # max Y, than min X\n",
    "    start_Point_A = points_Coordinates_List[0]\n",
    "    # max X, than max Y \n",
    "    point_B = start_Point_A\n",
    "    # min Y, than max X\n",
    "    point_C = start_Point_A\n",
    "    # min X, than min Y\n",
    "    point_D = start_Point_A\n",
    "    \n",
    "    # if it(there) is tie for (with) X \n",
    "    # pick one with appropriate Y\n",
    "    for (indx, point) in enumerate(points_Coordinates_List):\n",
    "        if is_DEBUG:\n",
    "            print(\n",
    "                \"\"\"point: {}\\\n",
    "                \"\"\".format(\n",
    "                    point,\n",
    "                    start_Point_A, \n",
    "                    point_B, \n",
    "                    point_C, \n",
    "                    point_D\n",
    "                )\n",
    "            )\n",
    "        if start_Point_A.y < point.y:\n",
    "            start_Point_A = point\n",
    "        elif start_Point_A.y == point.y:\n",
    "            # tie\n",
    "            if start_Point_A.x > point.x:\n",
    "                start_Point_A = point\n",
    "                \n",
    "        if point_B.x < point.x:\n",
    "            point_B = point\n",
    "        elif point_B.x == point.x:\n",
    "            # tie\n",
    "            if point_B.y < point.y:\n",
    "                point_B = point\n",
    "                \n",
    "        if point_C.y > point.y:\n",
    "            point_C = point\n",
    "        elif point_C.y == point.y:\n",
    "            # tie\n",
    "            if point_C.x < point.x:\n",
    "                point_C = point\n",
    "                \n",
    "        if point_D.x > point.x:\n",
    "            point_D = point\n",
    "        elif point_D.x == point.x:\n",
    "            # tie\n",
    "            if point_D.y > point.y:\n",
    "                point_D = point\n",
    "                \n",
    "        if is_DEBUG:\n",
    "            print(\n",
    "                \"\"\"A: {}, B: {}, C: {}, D: {}\\\n",
    "                \"\"\".format(\n",
    "                    start_Point_A, \n",
    "                    point_B, \n",
    "                    point_C, \n",
    "                    point_D\n",
    "                )\n",
    "            )\n",
    "    \n",
    "    #distant_Points_Set = set({start_Point_A, point_B, point_C, point_D})\n",
    "    \n",
    "    return (start_Point_A, point_B, point_C, point_D)"
   ]
  },
  {
   "cell_type": "code",
   "execution_count": 106,
   "metadata": {
    "collapsed": false
   },
   "outputs": [
    {
     "data": {
      "text/plain": [
       "((2, 5), (5, 3), (1, 1), (1, 1))"
      ]
     },
     "execution_count": 106,
     "metadata": {},
     "output_type": "execute_result"
    }
   ],
   "source": [
    "# unit test #\n",
    "get_Distant_Points(test_Points_Coordinates)"
   ]
  },
  {
   "cell_type": "code",
   "execution_count": 107,
   "metadata": {
    "collapsed": false
   },
   "outputs": [
    {
     "data": {
      "text/plain": [
       "((2, 5), (5, 3), (3, 2), (2, 2))"
      ]
     },
     "execution_count": 107,
     "metadata": {},
     "output_type": "execute_result"
    }
   ],
   "source": [
    "# unit test #\n",
    "expected_Result = [[2, 5], [5, 3], [3, 2], [2, 2]]\n",
    "\"\"\"\n",
    "iterations:\n",
    "{x: 2, y: 5} -> min X, max Y \n",
    "{x: 5, y: 3} -> max X\n",
    "{x: 3, y: 2} -> min Y (3 > 2 => max X for min Y)\n",
    "{x: 2, y: 2} -> min X, min Y\n",
    "\"\"\"\n",
    "get_Distant_Points(test_Points_Coordinates[1:])#, True)"
   ]
  },
  {
   "cell_type": "code",
   "execution_count": 82,
   "metadata": {
    "collapsed": false
   },
   "outputs": [
    {
     "data": {
      "text/plain": [
       "{(1, 1), (5, 3)}"
      ]
     },
     "execution_count": 82,
     "metadata": {},
     "output_type": "execute_result"
    }
   ],
   "source": [
    "set(((1, 1), (1, 1), (5, 3), (1, 1)))"
   ]
  },
  {
   "cell_type": "code",
   "execution_count": 83,
   "metadata": {
    "collapsed": true
   },
   "outputs": [],
   "source": [
    "def get_Corner_Points(\n",
    "    distant_Points: tuple#list<of Coordinate>\n",
    ") -> tuple:#list<of Coordinate>:\n",
    "    \"\"\"\n",
    "    \"\"\"\n",
    "    assert len(distant_Points) > 3 \n",
    "    \n",
    "    (a, b, c, d) = distant_Points\n",
    "    # min X, max Y\n",
    "    point_A1 = a\n",
    "    # max Y, min X\n",
    "    point_B1 = point_A1\n",
    "    # max X, min Y\n",
    "    point_C1 = point_A1\n",
    "    # min Y, min X\n",
    "    point_D1 = point_A1\n",
    "    \n",
    "    if a.y >= b.y:\n",
    "        point_A1 = a\n",
    "    else:\n",
    "        point_A1 = Coordinate(a.x, b.y)    \n",
    "    if b.x >= c.x:\n",
    "        point_B1 = b\n",
    "    else:\n",
    "        point_B1 = Coordinate(c.x, b.y)    \n",
    "    if c.y >= d.y:\n",
    "        point_C1 = a\n",
    "    else:\n",
    "        point_C1 = Coordinate(c.x, d.y)    \n",
    "    if d.x >= a.x:\n",
    "        point_D1 = d\n",
    "    else:\n",
    "        point_D1 = Coordinate(a.x, d.y)    \n",
    "    \n",
    "    return (point_A1, point_B1, point_C1, point_D1)"
   ]
  },
  {
   "cell_type": "code",
   "execution_count": 19,
   "metadata": {
    "collapsed": false
   },
   "outputs": [
    {
     "data": {
      "text/plain": [
       "(1, -1)"
      ]
     },
     "execution_count": 19,
     "metadata": {},
     "output_type": "execute_result"
    }
   ],
   "source": [
    "a = 1\n",
    "b = a\n",
    "b = -1\n",
    "\n",
    "(a, b)"
   ]
  },
  {
   "cell_type": "code",
   "execution_count": 2,
   "metadata": {
    "collapsed": false
   },
   "outputs": [],
   "source": [
    "# an extreme point of the convex hull\n",
    "def get_Min_Max_X_Points(\n",
    "    points_Coordinates_List: list,\n",
    "    is_DEBUG: bool = False\n",
    ") -> tuple:#list<of Coordinate>:\n",
    "    \"\"\"\n",
    "    at least two points\n",
    "    with distinct X coordinates\n",
    "    \"\"\"\n",
    "    \n",
    "    assert len(points_Coordinates_List) > 1 \n",
    "    \n",
    "    \"\"\" X preveal \"\"\"\n",
    "    min_X_Point = points_Coordinates_List[0]\n",
    "    max_X_Point = min_X_Point\n",
    "    min_Y_Point = min_X_Point\n",
    "    \n",
    "    # if it(there) is tie for (with) X \n",
    "    # pick one with appropriate Y\n",
    "    for (indx, point) in enumerate(points_Coordinates_List):\n",
    "        \n",
    "        if min_X_Point.x > point.x:\n",
    "            min_X_Point = point\n",
    "        elif min_X_Point.x == point.x:\n",
    "            # tie\n",
    "            if min_X_Point.y < point.y:\n",
    "                min_X_Point = point\n",
    "                \n",
    "        if max_X_Point.x < point.x:\n",
    "            max_X_Point = point\n",
    "        elif max_X_Point.x == point.x:\n",
    "            # tie\n",
    "            if max_X_Point.y > point.y:\n",
    "                max_X_Point = point\n",
    "                \n",
    "        if is_DEBUG:\n",
    "            print(\n",
    "                \"\"\"min_X: {}, max_X: {}, min_Y: {}, point: {}\\\n",
    "                \"\"\".format(\n",
    "                    min_X_Point, \n",
    "                    max_X_Point, \n",
    "                    min_Y_Point, \n",
    "                    point\n",
    "                )\n",
    "            )      \n",
    "    \n",
    "    if min_X_Point.y > max_X_Point.y:\n",
    "        min_Y_Point = max_X_Point\n",
    "    else:\n",
    "        # scala`s compiler found bug here\n",
    "        # min_Y_Point.x accidently was mutated\n",
    "        min_Y_Point = min_X_Point\n",
    "                \n",
    "    assert max_X_Point != min_X_Point, \"\"\"must be at least 3 non-colinear points\"\"\"\n",
    "    \n",
    "    \n",
    "    return (min_X_Point, max_X_Point, min_Y_Point)"
   ]
  },
  {
   "cell_type": "code",
   "execution_count": 15,
   "metadata": {
    "collapsed": false
   },
   "outputs": [
    {
     "data": {
      "text/plain": [
       "((1, 1), (5, 3), (1, 1))"
      ]
     },
     "execution_count": 15,
     "metadata": {},
     "output_type": "execute_result"
    }
   ],
   "source": [
    "### unit test ###\n",
    "test_Points_List = [[1, 1], [2, 5], [3, 3], [5, 3], [3, 2], [2, 2]]\n",
    "test_Points_Coordinates = [Coordinate(pX, pY) for (pX, pY) in test_Points_List]\n",
    "expected_Result = ((1, 1), (5, 3), (1, 1))\n",
    "get_Min_Max_X_Points(\n",
    "    test_Points_Coordinates#, \n",
    "    #is_DEBUG = True\n",
    ")"
   ]
  },
  {
   "cell_type": "code",
   "execution_count": 118,
   "metadata": {
    "collapsed": false
   },
   "outputs": [
    {
     "data": {
      "text/plain": [
       "(1, 3.7)"
      ]
     },
     "execution_count": 118,
     "metadata": {},
     "output_type": "execute_result"
    }
   ],
   "source": [
    "test_Point = Coordinate(1, 3.7)\n",
    "test_Point"
   ]
  },
  {
   "cell_type": "code",
   "execution_count": 120,
   "metadata": {
    "collapsed": false
   },
   "outputs": [
    {
     "ename": "SyntaxError",
     "evalue": "can't assign to function call (<ipython-input-120-aefc990f51c1>, line 1)",
     "output_type": "error",
     "traceback": [
      "\u001b[1;36m  File \u001b[1;32m\"<ipython-input-120-aefc990f51c1>\"\u001b[1;36m, line \u001b[1;32m1\u001b[0m\n\u001b[1;33m    Coordinate(x, y) = test_Point\u001b[0m\n\u001b[1;37m                                 ^\u001b[0m\n\u001b[1;31mSyntaxError\u001b[0m\u001b[1;31m:\u001b[0m can't assign to function call\n"
     ]
    }
   ],
   "source": [
    "Coordinate(x, y) = test_Point"
   ]
  },
  {
   "cell_type": "code",
   "execution_count": 5,
   "metadata": {
    "collapsed": true
   },
   "outputs": [],
   "source": [
    "def hull_Candidates(\n",
    "    points_Coordinates_List: list,\n",
    "    # A\n",
    "    upper_Left_Point: Coordinate,\n",
    "    # B\n",
    "    lower_Right_Point: Coordinate\n",
    ") -> tuple:\n",
    "    \"\"\"\n",
    "    expected ->\n",
    "    no mutation on passed arguments\n",
    "    \"\"\"\n",
    "    upper_Hull_Candidates = []\n",
    "    lower_Hull_Candidates = []\n",
    "    turn_Direction = None\n",
    "    \n",
    "    for c in points_Coordinates_List:\n",
    "        \n",
    "        if c == upper_Left_Point or c == lower_Right_Point:\n",
    "            pass# skip\n",
    "        else:\n",
    "            # BA -> base line\n",
    "            turn_Direction = get_Turn_Direction(\n",
    "                # B\n",
    "                lower_Right_Point, \n",
    "                # A\n",
    "                # joint / center\n",
    "                upper_Left_Point, \n",
    "                c\n",
    "            )\n",
    "            \n",
    "            if turn_Direction is Turn_Direction.right:\n",
    "                upper_Hull_Candidates.append(c) \n",
    "            elif turn_Direction is Turn_Direction.left:\n",
    "                lower_Hull_Candidates.append(c)     \n",
    "    \n",
    "    \n",
    "    return (upper_Hull_Candidates, lower_Hull_Candidates)"
   ]
  },
  {
   "cell_type": "code",
   "execution_count": 46,
   "metadata": {
    "collapsed": false
   },
   "outputs": [
    {
     "name": "stdout",
     "output_type": "stream",
     "text": [
      "[(1, 1), (2, 5), (3, 3), (5, 3), (3, 2), (2, 2)]\n"
     ]
    },
    {
     "data": {
      "text/plain": [
       "([(2, 5), (3, 3), (2, 2)], [])"
      ]
     },
     "execution_count": 46,
     "metadata": {},
     "output_type": "execute_result"
    }
   ],
   "source": [
    "### unit test ###\n",
    "test_Points_Xs = [3, 2, 4] \n",
    "test_Points_Ys = [2, 5, 5]\n",
    "#test_Points_List = zip(test_Points_Xs, test_Points_Ys)\n",
    "test_Points_List = [[1, 1], [2, 5], [3, 3], [5, 3], [3, 2], [2, 2]]\n",
    "print(test_Points_Coordinates)\n",
    "test_Points_Coordinates = [Coordinate(pX, pY) for (pX, pY) in test_Points_List]\n",
    "(min_X_Point, max_X_Point, min_Y_Point) = get_Min_Max_X_Points(test_Points_Coordinates)\n",
    "#((1, 1), (5, 3), (1, 1))\n",
    "#(min_X_Point, max_X_Point, min_Y_Point)\n",
    "expected_Result = ([(2, 5), (3, 3), (2, 2)], [])\n",
    "hull_Candidates(\n",
    "    points_Coordinates_List = test_Points_Coordinates,\n",
    "    upper_Left_Point = min_X_Point,\n",
    "    lower_Right_Point = max_X_Point\n",
    ")"
   ]
  },
  {
   "cell_type": "code",
   "execution_count": 47,
   "metadata": {
    "collapsed": false
   },
   "outputs": [
    {
     "data": {
      "text/plain": [
       "[(1, 1), (2, 5), (3, 3), (5, 3), (3, 2), (2, 2)]"
      ]
     },
     "execution_count": 47,
     "metadata": {},
     "output_type": "execute_result"
    }
   ],
   "source": [
    "test_Points_Coordinates"
   ]
  },
  {
   "cell_type": "code",
   "execution_count": 25,
   "metadata": {
    "collapsed": false
   },
   "outputs": [
    {
     "data": {
      "text/plain": [
       "(3, 3)"
      ]
     },
     "execution_count": 25,
     "metadata": {},
     "output_type": "execute_result"
    }
   ],
   "source": [
    "(pX, pY) = test_Points_List[2]\n",
    "(pX, pY)"
   ]
  },
  {
   "cell_type": "code",
   "execution_count": 26,
   "metadata": {
    "collapsed": false
   },
   "outputs": [
    {
     "data": {
      "text/plain": [
       "(3, 3)"
      ]
     },
     "execution_count": 26,
     "metadata": {},
     "output_type": "execute_result"
    }
   ],
   "source": [
    "Coordinate(pX, pY)"
   ]
  },
  {
   "cell_type": "code",
   "execution_count": 29,
   "metadata": {
    "collapsed": false
   },
   "outputs": [
    {
     "data": {
      "text/plain": [
       "([], [(3, 3), (3, 2), (2, 2)])"
      ]
     },
     "execution_count": 29,
     "metadata": {},
     "output_type": "execute_result"
    }
   ],
   "source": [
    "(min_X_Point, max_X_Point, min_Y_Point) = get_Min_Max_X_Points(test_Points_Coordinates[1:])\n",
    "#((2, 5), (5, 3), (5, 3))\n",
    "#(min_X_Point, max_X_Point, min_Y_Point)\n",
    "expected_Result = ([], [(3, 3), (3, 2), (2, 2)])\n",
    "hull_Candidates(\n",
    "    points_Coordinates_List = test_Points_Coordinates[1:],\n",
    "    upper_Left_Point = min_X_Point,\n",
    "    lower_Right_Point = max_X_Point\n",
    ")"
   ]
  },
  {
   "cell_type": "code",
   "execution_count": 48,
   "metadata": {
    "collapsed": false
   },
   "outputs": [
    {
     "name": "stdout",
     "output_type": "stream",
     "text": [
      "[(1, 1), (2, 5), (3, 3), (5, 3), (3, 2), (2, 2)]\n",
      "[(3, 3), (5, 3), (3, 2), (2, 2)]\n",
      "min_X: <x: 3, y: 3>, max_X: <x: 3, y: 3>, min_Y: <x: 3, y: 3>, point: <x: 3, y: 3>                \n",
      "min_X: <x: 3, y: 3>, max_X: <x: 5, y: 3>, min_Y: <x: 3, y: 3>, point: <x: 5, y: 3>                \n",
      "min_X: <x: 3, y: 3>, max_X: <x: 5, y: 3>, min_Y: <x: 3, y: 3>, point: <x: 3, y: 2>                \n",
      "min_X: <x: 2, y: 2>, max_X: <x: 5, y: 3>, min_Y: <x: 3, y: 3>, point: <x: 2, y: 2>                \n"
     ]
    },
    {
     "data": {
      "text/plain": [
       "(([(2, 3)], [(3, 2)]), (2, 2), (5, 3), (2, 3))"
      ]
     },
     "execution_count": 48,
     "metadata": {},
     "output_type": "execute_result"
    }
   ],
   "source": [
    "# [[1, 1], [2, 5], [3, 3], [5, 3], [3, 2], [2, 2]]\n",
    "print(test_Points_Coordinates)\n",
    "print(test_Points_Coordinates[2:])\n",
    "(min_X_Point, max_X_Point, min_Y_Point) = get_Min_Max_X_Points(test_Points_Coordinates[2:], True)\n",
    "#((2, 3), (5, 3), (5, 3))\n",
    "#(min_X_Point, max_X_Point, min_Y_Point)\n",
    "#assert min_X_Point in test_Points_Coordinates\n",
    "\"\"\" (2, 3) !!! WTF !!! <- mutative black magic \n",
    "bug in get_Min_Max_X_Points found\n",
    "thanks to Scala\n",
    "and fixed\n",
    "\"\"\"\n",
    "#assert min_X_Point != (2, 3)\n",
    "expected_Result = ([(3, 3)], [(3, 2)])\n",
    "actual_Result = hull_Candidates(\n",
    "    points_Coordinates_List = test_Points_Coordinates[2:],\n",
    "    upper_Left_Point = min_X_Point,\n",
    "    lower_Right_Point = max_X_Point\n",
    ")\n",
    "\n",
    "(\n",
    "    actual_Result, \n",
    "    min_X_Point, \n",
    "    max_X_Point, \n",
    "    min_Y_Point\n",
    ")"
   ]
  },
  {
   "cell_type": "code",
   "execution_count": 3,
   "metadata": {
    "collapsed": true
   },
   "outputs": [],
   "source": [
    "# interval including it`s endpoints\n",
    "def get_Planar_Length_From_Point_To_Point(\n",
    "    start: tuple,#Coordinate\n",
    "    end: tuple#Coordinate\n",
    ") -> float:\n",
    "    \"\"\"\n",
    "    \"\"\"\n",
    "    #assert len(vector) > 1\n",
    "    (s_X, s_Y) = start\n",
    "    (e_X, e_Y) = end\n",
    "    delta_X = s_X - e_X\n",
    "    delta_Y = s_Y - e_Y\n",
    "    \n",
    "    return pow(delta_X * delta_X + delta_Y * delta_Y, 0.5)"
   ]
  },
  {
   "cell_type": "code",
   "execution_count": 55,
   "metadata": {
    "collapsed": false
   },
   "outputs": [
    {
     "data": {
      "text/plain": [
       "6.0"
      ]
     },
     "execution_count": 55,
     "metadata": {},
     "output_type": "execute_result"
    }
   ],
   "source": [
    "### unit test ###\n",
    "get_Planar_Length_From_Point_To_Point(\n",
    "    start = (1, 1),#Coordinate\n",
    "    end = (7, 1)#Coordinate\n",
    ")"
   ]
  },
  {
   "cell_type": "code",
   "execution_count": 56,
   "metadata": {
    "collapsed": false
   },
   "outputs": [
    {
     "data": {
      "text/plain": [
       "6.0"
      ]
     },
     "execution_count": 56,
     "metadata": {},
     "output_type": "execute_result"
    }
   ],
   "source": [
    "### unit test ###\n",
    "get_Planar_Length_From_Point_To_Point(\n",
    "    start = (1, 1),#Coordinate\n",
    "    end = (1, 7)#Coordinate\n",
    ")"
   ]
  },
  {
   "cell_type": "code",
   "execution_count": 2,
   "metadata": {
    "collapsed": false
   },
   "outputs": [],
   "source": [
    "#import get_Planar_Length_From_Point_To_Point\n",
    "\n",
    "def get_Perimeter(\n",
    "    points_Coordinates_List: list#List[Coordinate]\n",
    ") -> float: #Double = {\n",
    "    def loop(\n",
    "        result: float = 0.0,#Double = 0, \n",
    "        source_List: list =  []#List[Coordinate]\n",
    "    ) -> float: #Double  = {\n",
    "      if (\n",
    "        len(source_List[1:]) == 0#.tail.isEmpty\n",
    "      ): \n",
    "        return result\n",
    "      else: \n",
    "        return loop(\n",
    "          result + get_Planar_Length_From_Point_To_Point(\n",
    "              start = source_List[0],#.head,\n",
    "              end = source_List[1]#.tail.head\n",
    "          ), \n",
    "          source_List[1:]#.tail\n",
    "        )\n",
    "\n",
    "    #// initialize \n",
    "    return loop(result = 0, source_List = points_Coordinates_List)"
   ]
  },
  {
   "cell_type": "code",
   "execution_count": 16,
   "metadata": {
    "collapsed": false
   },
   "outputs": [
    {
     "data": {
      "text/plain": [
       "12.200792856081229"
      ]
     },
     "execution_count": 16,
     "metadata": {},
     "output_type": "execute_result"
    }
   ],
   "source": [
    "### unit test ###\n",
    "\"\"\"\n",
    "6\n",
    "1 1\n",
    "2 5\n",
    "3 3\n",
    "5 3\n",
    "3 2\n",
    "2 2\n",
    "\"\"\"\n",
    "#12.200792856\n",
    "expected_Result = 12.2 #(+-0.2)\n",
    "#7.841619252963779\n",
    "test_Hull_Points_List = [(2, 5), (5, 3), (3, 3), (2, 5)]\n",
    "test_Hull_Points_List = [(1, 1), (2, 5), (5, 3), (1, 1)]\n",
    "get_Perimeter(test_Hull_Points_List)"
   ]
  },
  {
   "cell_type": "code",
   "execution_count": 17,
   "metadata": {
    "collapsed": false
   },
   "outputs": [
    {
     "data": {
      "text/plain": [
       "[4.123105625617661, 3.605551275463989, 4.47213595499958]"
      ]
     },
     "execution_count": 17,
     "metadata": {},
     "output_type": "execute_result"
    }
   ],
   "source": [
    "hull_Perimeters = [\n",
    "    get_Planar_Length_From_Point_To_Point(\n",
    "      start = test_Hull_Points_List[indx],\n",
    "      end = test_Hull_Points_List[indx + 1]\n",
    "    ) for (indx, p) in enumerate(test_Hull_Points_List)\n",
    "    if indx < len(test_Hull_Points_List) - 1     \n",
    "]\n",
    "hull_Perimeters"
   ]
  },
  {
   "cell_type": "code",
   "execution_count": 12,
   "metadata": {
    "collapsed": false
   },
   "outputs": [
    {
     "data": {
      "text/plain": [
       "7.841619252963779"
      ]
     },
     "execution_count": 12,
     "metadata": {},
     "output_type": "execute_result"
    }
   ],
   "source": [
    "sum(hull_Perimeters)"
   ]
  },
  {
   "cell_type": "code",
   "execution_count": 7,
   "metadata": {
    "collapsed": false
   },
   "outputs": [
    {
     "data": {
      "text/plain": [
       "8.32455532033676"
      ]
     },
     "execution_count": 7,
     "metadata": {},
     "output_type": "execute_result"
    }
   ],
   "source": [
    "### unit test ###\n",
    "\"\"\"\n",
    "3\n",
    "3 2\n",
    "2 5\n",
    "4 5\n",
    "\"\"\"\n",
    "expected_Result = 8.3 #(+-0.2)\n",
    "test_Hull_Points_Xs = [3, 2, 4, 3] \n",
    "test_Hull_Points_Ys = [2, 5, 5, 2]\n",
    "test_Hull_Points_List = list(zip(test_Hull_Points_Xs, test_Hull_Points_Ys))\n",
    "get_Perimeter(test_Hull_Points_List)    "
   ]
  },
  {
   "cell_type": "code",
   "execution_count": 10,
   "metadata": {
    "collapsed": false
   },
   "outputs": [
    {
     "data": {
      "text/plain": [
       "8.32455532033676"
      ]
     },
     "execution_count": 10,
     "metadata": {},
     "output_type": "execute_result"
    }
   ],
   "source": [
    "sum([\n",
    "    get_Planar_Length_From_Point_To_Point(\n",
    "      start = test_Hull_Points_List[indx],\n",
    "      end = test_Hull_Points_List[indx + 1]\n",
    "    ) for (indx, p) in enumerate(test_Hull_Points_List)\n",
    "    if indx < len(test_Hull_Points_List) - 1     \n",
    "])"
   ]
  },
  {
   "cell_type": "code",
   "execution_count": 19,
   "metadata": {
    "collapsed": false
   },
   "outputs": [],
   "source": [
    "#from math import atan2\n",
    "#from heapq import heappush, heappop\n",
    "\n",
    "#import get_Min_Max_X_Points\n",
    "#import hull_Candidates\n",
    "#import get_Turn_Direction\n",
    "\n",
    "# in 2D plane \n",
    "def convex_Hull_Polygon_Points(\n",
    "    points_Coordinates_List: list,\n",
    "    #left_Most_Start_Point: tuple#Coordinate\n",
    "    is_DEBUG: bool = (\n",
    "        #True\n",
    "        False\n",
    "    )\n",
    ") -> list:\n",
    "    \"\"\"\n",
    "    1. find base line -> an extreme point of the convex hull\n",
    "    two max distant points (A, B) by X coordinate\n",
    "    (special case -> triangle\n",
    "    with collinear points on convex hull)\n",
    "    2. divide remaining points (all points except A, B)\n",
    "    on two groups / sets\n",
    "    upper candidate points (above AB, right from it, clockwise) and\n",
    "    lower candidate points (below AB, left from it, counterclockwise)\n",
    "    3. process upper hull candidates (if any)\n",
    "    starting from A\n",
    "    calculate slope for each candidate in set\n",
    "    cases:\n",
    "    > for A & u_C_i all outcome possible \n",
    "    except -> vertical,\n",
    "    so pick one u_C_i with maximum slope \n",
    "    > for u_C_i & u_C_j\n",
    "    pick vertical or \n",
    "    one with maximum slope\n",
    "    4. (if u_C_i != B) \n",
    "    process remaining candidates (if any left)\n",
    "    discard all points \n",
    "    from upper candidates\n",
    "    that are\n",
    "    below Bu_C_i, left from it, counterclockwise or\n",
    "    (below u_C_iB, right from it, clockwise)\n",
    "    else\n",
    "    upper part -> done\n",
    "    5. process lower hull candidates (if any)\n",
    "    starting from B\n",
    "    calculate slope for each candidate in set\n",
    "    cases:\n",
    "    > for B & l_C_i all outcome possible \n",
    "    except -> vertical,\n",
    "    so pick one l_C_i with minimum slope \n",
    "    > for l_C_i & l_C_j\n",
    "    pick ? vertical ? or \n",
    "    one with ? minimum ? slope\n",
    "    6. (if l_C_i != A) \n",
    "    process remaining candidates (if any left)\n",
    "    discard all points \n",
    "    from lower candidates\n",
    "    that are\n",
    "    (above l_C_iA, right from it, clockwise or)\n",
    "    above Al_C_i, left from it, counterclockwise\n",
    "    else\n",
    "    upper part -> done\n",
    "    7. return \n",
    "    discovered convex hull points\n",
    "    in order (as) they was discovered\n",
    "    \"\"\"        \n",
    "    hull_Points_List = list()    \n",
    "    \n",
    "    # special case:\n",
    "    if len(points_Coordinates_List) == 3:\n",
    "        # ? must be sorted ?\n",
    "        # in order to calculate perimiter\n",
    "        # idempotent operation for triangle\n",
    "        # (order does not matter)\n",
    "        hull_Points_List = points_Coordinates_List\n",
    "        # adding end point to close path    \n",
    "        hull_Points_List.append(hull_Points_List[0])\n",
    "    else:        \n",
    "        # (A, B, _)\n",
    "        (min_X_Point, max_X_Point, min_Y_Point) = get_Min_Max_X_Points(\n",
    "            points_Coordinates_List#, \n",
    "            #is_DEBUG = True\n",
    "        )\n",
    "        \n",
    "        hull_Points_List = [min_X_Point]\n",
    "        #heap_List_Hull_Candidates = []        \n",
    "        \n",
    "        #upper_Hull_Candidates = []\n",
    "        #lower_Hull_Candidates = []\n",
    "        (upper_Hull_Candidates, lower_Hull_Candidates) = hull_Candidates(\n",
    "            points_Coordinates_List = points_Coordinates_List,\n",
    "            upper_Left_Point = min_X_Point,\n",
    "            lower_Right_Point = max_X_Point\n",
    "        )\n",
    "        upper_Hull_Candidates_Length = len(upper_Hull_Candidates)\n",
    "        lower_Hull_Candidates_Length = len(lower_Hull_Candidates)\n",
    "        if is_DEBUG:\n",
    "            print(\n",
    "                \"\"\"upper_Hull_Candidates: \n",
    "                {}, \n",
    "                lower_Hull_Candidates: \n",
    "                {}\"\"\".format(\n",
    "                    upper_Hull_Candidates,\n",
    "                    lower_Hull_Candidates\n",
    "                )\n",
    "            )\n",
    "        \n",
    "        # 3. process upper hull candidates (if any)\n",
    "        if upper_Hull_Candidates_Length > 1:\n",
    "            pass\n",
    "            last_Hull_Point = min_X_Point\n",
    "            #next_Hull_Point = None\n",
    "            condition = True \n",
    "            maximum_Slope = None #`vertical`\n",
    "            current_Slope = maximum_Slope# ? must be the opposite ?\n",
    "\n",
    "            \"\"\" endless loop possible \"\"\"\n",
    "            #while (condition): \n",
    "            \"\"\" in the worst case all points belong to Hull \"\"\"\n",
    "            for c_Indx in range(0, upper_Hull_Candidates_Length, 1):\n",
    "\n",
    "                #hull_Points_List.append(last_Hull_Point)\n",
    "                #next_Hull_Point = points_Coordinates_List[0]\n",
    "                if is_DEBUG:\n",
    "                    print(\n",
    "                        \"\"\"len(upper_Hull_Candidates): {}, last_Hull_Point: {}\"\"\".format(\n",
    "                            upper_Hull_Candidates_Length,\n",
    "                            last_Hull_Point\n",
    "                        )\n",
    "                    )\n",
    "                # reset\n",
    "                maximum_Slope = None #`vertical`\n",
    "                \n",
    "                \"\"\" inner loop, so ? O(n^2) complexity possible ? \"\"\"\n",
    "                # must be reduced to empty, eventually \n",
    "                for c_Point in upper_Hull_Candidates:\n",
    "                    \"\"\" \n",
    "                    pick one u_C_i with maximum slope (`vertical`),\n",
    "                    except `vertical` for 'A'\n",
    "                    \"\"\"\n",
    "                    # TypeError: 'Coordinate' object is not iterable\n",
    "                    #(x, y) = (c_Point.x, c_Point.y)\n",
    "\n",
    "                    current_Slope = slope(\n",
    "                        line_Start = last_Hull_Point,\n",
    "                        line_End = c_Point#Coordinate(x, y)\n",
    "                    )\n",
    "\n",
    "                    if (\n",
    "                        c_Point != min_X_Point and\n",
    "                        current_Slope is None# `vertical`\n",
    "                    ):\n",
    "                        # special case\n",
    "                        next_Hull_Point = c_Point\n",
    "                        break# for c_Point\n",
    "                    else:\n",
    "                        if (\n",
    "                            maximum_Slope is None or\n",
    "                            current_Slope > maximum_Slope\n",
    "                        ):\n",
    "                            maximum_Slope = current_Slope\n",
    "                            next_Hull_Point = c_Point\n",
    "                \n",
    "                if is_DEBUG:\n",
    "                    print(\n",
    "                        \"\"\"hull_Points_List[-1]: {}, next_Hull_Point: {}, maximum_Slope: {}\"\"\".format(\n",
    "                            hull_Points_List[-1],\n",
    "                            next_Hull_Point,\n",
    "                            maximum_Slope\n",
    "                        )\n",
    "                    )\n",
    "                if next_Hull_Point != hull_Points_List[-1]:\n",
    "                    hull_Points_List.append(next_Hull_Point)\n",
    "                last_Hull_Point = next_Hull_Point\n",
    "                \"\"\"4. discard upper candidates\n",
    "                that are\n",
    "                below B-last_Hull_Point, left from it, counterclockwise\"\"\"\n",
    "                #Turn_Direction.right: 2,\n",
    "                #Turn_Direction.left: 1\n",
    "                upper_Hull_Candidates = [\n",
    "                    p for p in upper_Hull_Candidates\n",
    "                    if get_Turn_Direction(\n",
    "                        point_A = last_Hull_Point, \n",
    "                        point_B = max_X_Point, \n",
    "                        point_C = p\n",
    "                    ) is Turn_Direction.left\n",
    "                ]\n",
    "                #condition = next_Hull_Point != left_Most_Start_Point\n",
    "                #if condition:\n",
    "                #if last_Hull_Point == max_X_Point:\n",
    "                if len(upper_Hull_Candidates) == 0:\n",
    "                    \"\"\" `upper_Hull` complete \"\"\"\n",
    "                    hull_Points_List.append(max_X_Point)\n",
    "                    \n",
    "                    break# for c_Indx\n",
    "                    \n",
    "                elif len(upper_Hull_Candidates) == 1:\n",
    "                    # special case\n",
    "                    hull_Points_List.append(upper_Hull_Candidates[0])\n",
    "                    hull_Points_List.append(max_X_Point)\n",
    "                    \n",
    "                    break# for c_Indx\n",
    "                    \n",
    "                else:\n",
    "                    pass\n",
    "       \n",
    "        elif upper_Hull_Candidates_Length == 1:\n",
    "            # special case\n",
    "            hull_Points_List = [min_X_Point, upper_Hull_Candidates[0], max_X_Point]\n",
    "        else:    \n",
    "        #elif upper_Hull_Candidates_Length == 0:\n",
    "            # special case\n",
    "            hull_Points_List = [min_X_Point, max_X_Point]\n",
    "        \n",
    "        # 5. process lower hull candidates (if any)\n",
    "        if lower_Hull_Candidates_Length > 1:\n",
    "            pass\n",
    "            last_Hull_Point = max_X_Point\n",
    "            minimum_Slope = None #`vertical`\n",
    "            current_Slope = minimum_Slope# ? must be the opposite ?\n",
    "\n",
    "            \"\"\" in the worst case all points belong to Hull \"\"\"\n",
    "            for c_Indx in range(0, lower_Hull_Candidates_Length, 1):\n",
    "\n",
    "                if is_DEBUG:\n",
    "                    print(\n",
    "                        \"\"\"len(lower_Hull_Candidates): {}, last_Hull_Point: {}\"\"\".format(\n",
    "                            len(lower_Hull_Candidates),\n",
    "                            last_Hull_Point\n",
    "                        )\n",
    "                    )\n",
    "                # reset\n",
    "                minimum_Slope = None #`vertical`\n",
    "                \n",
    "                \"\"\" inner loop, so ? O(n^2) complexity possible ? \"\"\"\n",
    "                # must be reduced to empty, eventually \n",
    "                for c_Point in lower_Hull_Candidates:\n",
    "                    \"\"\" \n",
    "                    pick one l_C_i with minimum slope (`vertical`),\n",
    "                    except `vertical` for 'B'\n",
    "                    \"\"\"\n",
    "                    current_Slope = slope(\n",
    "                        line_Start = last_Hull_Point,\n",
    "                        line_End = c_Point#Coordinate(x, y)\n",
    "                    )\n",
    "\n",
    "                    if (\n",
    "                        c_Point != max_X_Point and\n",
    "                        current_Slope is None# `vertical`\n",
    "                    ):\n",
    "                        # special case\n",
    "                        next_Hull_Point = c_Point\n",
    "                        \n",
    "                        break# for c_Point\n",
    "                        \n",
    "                    else:\n",
    "                        if (\n",
    "                            minimum_Slope is None or\n",
    "                            current_Slope < minimum_Slope\n",
    "                        ):\n",
    "                            minimum_Slope = current_Slope\n",
    "                            next_Hull_Point = c_Point\n",
    "                \n",
    "                if is_DEBUG:\n",
    "                    print(\n",
    "                        \"\"\"hull_Points_List[-1]: {}, next_Hull_Point: {}, minimum_Slope: {}\"\"\".format(\n",
    "                            hull_Points_List[-1],\n",
    "                            next_Hull_Point,\n",
    "                            minimum_Slope\n",
    "                        )\n",
    "                    )\n",
    "                if next_Hull_Point != hull_Points_List[-1]:\n",
    "                    hull_Points_List.append(next_Hull_Point)\n",
    "                last_Hull_Point = next_Hull_Point\n",
    "                \"\"\"6. discard lower candidates\n",
    "                that are\n",
    "                above A-l_C_i, left from it, counterclockwise\"\"\"\n",
    "                #Turn_Direction.right: 2,\n",
    "                #Turn_Direction.left: 1\n",
    "                lower_Hull_Candidates = [\n",
    "                    p for p in upper_Hull_Candidates\n",
    "                    if get_Turn_Direction(\n",
    "                        point_A = last_Hull_Point, \n",
    "                        point_B = min_X_Point, \n",
    "                        point_C = p\n",
    "                    ) is Turn_Direction.left\n",
    "                ]\n",
    "                #condition = next_Hull_Point != left_Most_Start_Point\n",
    "                #if condition:\n",
    "                #if last_Hull_Point == max_X_Point:\n",
    "                if len(lower_Hull_Candidates) == 0:\n",
    "                    \"\"\" `lower_Hull` complete \"\"\"\n",
    "                    # end point to close path\n",
    "                    hull_Points_List.append(min_X_Point)\n",
    "                    \n",
    "                    break# for c_Indx\n",
    "                    \n",
    "                elif len(lower_Hull_Candidates) == 1:\n",
    "                    # special case\n",
    "                    hull_Points_List.append(lower_Hull_Candidates[0])\n",
    "                    # end point to close path\n",
    "                    hull_Points_List.append(min_X_Point)\n",
    "                    \n",
    "                    break# for c_Indx\n",
    "                    \n",
    "                else:\n",
    "                    pass\n",
    "                \n",
    "        elif lower_Hull_Candidates_Length == 1:\n",
    "            # special case\n",
    "            hull_Points_List.append(lower_Hull_Candidates[0])\n",
    "            if is_DEBUG:\n",
    "                print(\n",
    "                    \"\"\"special case, have only one lower_Hull_Candidates[0]: {}\"\"\".format(\n",
    "                        lower_Hull_Candidates[0]\n",
    "                    )\n",
    "                )\n",
    "            # end point to close path    \n",
    "            hull_Points_List.append(min_X_Point)\n",
    "        else: #elif lower_Hull_Candidates_Length == 0:\n",
    "            # special case\n",
    "            if is_DEBUG:\n",
    "                print(\n",
    "                    \"\"\"special case, have empty lower_Hull_Candidates: {}\"\"\".format(\n",
    "                        lower_Hull_Candidates\n",
    "                    )\n",
    "                )\n",
    "            # end point to close path    \n",
    "            hull_Points_List.append(min_X_Point)\n",
    "\n",
    "                    \n",
    "    if (is_DEBUG):  \n",
    "        print(\"hull_Points_List:\\n{}\".format(hull_Points_List))\n",
    "        \n",
    "      \n",
    "    return hull_Points_List"
   ]
  },
  {
   "cell_type": "code",
   "execution_count": 116,
   "metadata": {
    "collapsed": false
   },
   "outputs": [
    {
     "data": {
      "image/png": "[encoded data removed]",
      "text/plain": [
       "<matplotlib.figure.Figure at 0x7fb916cddc50>"
      ]
     },
     "metadata": {},
     "output_type": "display_data"
    }
   ],
   "source": [
    "from matplotlib.path import Path\n",
    "#matplotlib.patches.Wedge\n",
    "from matplotlib import patches#.Wedge\n",
    "\n",
    "fig = pyplot.figure(\n",
    "    2, (6.0, 6.0)\n",
    ")\n",
    "ax = fig.add_subplot(\n",
    "    1,1,1\n",
    ") \n",
    "\n",
    "points = [\n",
    "    (1, 2),  \n",
    "    (2, 5), \n",
    "    (5, 1), \n",
    "    (5, 1), \n",
    "    (1.5, 4), \n",
    "    (2, 2),\n",
    "    (3, 3),\n",
    "    (3, 2),\n",
    "    (4, 2),\n",
    "    (4, 3),\n",
    "    (2, 3),\n",
    "    (2, 4),\n",
    "    (3, 4),\n",
    "    (3, 4.5),\n",
    "    (3.5, 4.5),\n",
    "    (2, 1.5),\n",
    "    (3, 1.5)\n",
    "]\n",
    "for (xs, ys) in points:\n",
    "    ax.plot(xs, ys, 'x', color='blue', markersize=5.0 )\n",
    "\n",
    "path_Nodes = [\n",
    "    (1, 5),  # A1\n",
    "    (5, 5), # B1\n",
    "    (5, 1), # C1\n",
    "    (1, 1), # D1\n",
    "    (1, 5),  # A1\n",
    "]\n",
    "(xs, ys) = zip(*path_Nodes)\n",
    "ax.plot(xs, ys, 'x--', lw=2, color='gray', ms=10)\n",
    "\n",
    "x_off_Set = 0.1\n",
    "y_off_Set = 0.3\n",
    "ax.text(path_Nodes[0][0] + x_off_Set, path_Nodes[0][1] + x_off_Set, 'A1')\n",
    "ax.text(path_Nodes[1][0] + x_off_Set, path_Nodes[1][1] + x_off_Set, 'B1')\n",
    "ax.text(path_Nodes[2][0] + x_off_Set, path_Nodes[2][1] - y_off_Set, 'C1')\n",
    "ax.text(path_Nodes[3][0] + x_off_Set, path_Nodes[3][1] - y_off_Set, 'D1')\n",
    "\n",
    "hull_Extreme_Points = [\n",
    "    (1, 2),  # min X\n",
    "    (1.5, 4),\n",
    "    (2, 5),\n",
    "    (3.5, 4.5),\n",
    "    (5, 1), # max X\n",
    "    (2, 1.5),\n",
    "    (1, 2)\n",
    "]\n",
    "(xs, ys) = zip(*hull_Extreme_Points)\n",
    "ax.plot(xs[0], ys[0], 'bo', markersize=10.0 )\n",
    "ax.plot(xs[1], ys[1], 'go', markersize=5.0 )\n",
    "ax.plot(xs[2], ys[2], 'co', markersize=5.0 )\n",
    "# base line\n",
    "ax.plot([1, 5], [2, 1], 'o-', lw=2, color='red', ms=8.0)\n",
    "#ax.text(1 - y_off_Set, 2 + x_off_Set, 'Ax', color='blue')\n",
    "ax.text(5 + x_off_Set, 1 + x_off_Set, 'Bx', color='red')\n",
    "ax.annotate(\n",
    "    'Ax', \n",
    "    xy=(1, 2), \n",
    "    xytext=(1 - y_off_Set, 2 + x_off_Set),\n",
    "    horizontalalignment='left',\n",
    "    verticalalignment='bottom',\n",
    "    color='blue'\n",
    ")\n",
    "\n",
    "# next point check\n",
    "ax.plot([1, 1.5], [2, 4], lw=1, color='green')\n",
    "ax.plot([1, 4], [2, 2], lw=1, color='green')\n",
    "ax.plot([1, 2], [2, 4], lw=1, color='green')\n",
    "ax.plot([1, 3.0], [2, 4.5], lw=1, color='green')\n",
    "ax.plot([1, 3.5], [2, 4.5], lw=1, color='green')\n",
    "ax.plot([1, 3.0], [2, 3.0], lw=1, color='green')\n",
    "ax.plot([1, 4.0], [2, 3.0], lw=1, color='green')\n",
    "# base line\n",
    "ax.plot([1.5, 5], [4, 1], '--', lw=1, color='red')\n",
    "# next point check\n",
    "ax.plot([1.5, 2], [4, 5], lw=1, color='yellow')\n",
    "ax.plot([1.5, 4], [4, 2], lw=1, color='yellow')\n",
    "ax.plot([1.5, 2], [4, 4], lw=1, color='yellow')\n",
    "ax.plot([1.5, 3], [4, 4], lw=1, color='yellow')\n",
    "ax.plot([1.5, 3.0], [4, 4.5], lw=1, color='yellow')\n",
    "ax.plot([1.5, 3.5], [4, 4.5], lw=1, color='yellow')\n",
    "ax.plot([1.5, 3.0], [4, 3.0], lw=1, color='yellow')\n",
    "ax.plot([1.5, 4.0], [4, 3.0], lw=1, color='yellow')\n",
    "# base line\n",
    "ax.plot([2, 5], [5, 1], '-.', lw=1, color='red')\n",
    "\n",
    "\n",
    "ax.plot(\n",
    "    xs, \n",
    "    ys,\n",
    "    '--',\n",
    "    color='m'\n",
    ")\n",
    "\n",
    "path_Nodes = [\n",
    "    (1.0, 2.0),\n",
    "    (1.242, 2.970),\n",
    "    #(1.3, 3.0), \n",
    "    (1.75, 2.75), \n",
    "    # (1.9701425001453319, 1.757464374963667)\n",
    "    (1.970, 1.757),\n",
    "    #(2.0, 1.75),\n",
    "    (1.0, 2.0)\n",
    "]\n",
    "\n",
    "path_Codes = [\n",
    "    Path.MOVETO,\n",
    "    Path.LINETO,\n",
    "    Path.CURVE3,\n",
    "    Path.CURVE3,\n",
    "    Path.CLOSEPOLY\n",
    "]\n",
    "\n",
    "path = Path(path_Nodes, path_Codes)\n",
    "patch = patches.PathPatch(\n",
    "    path, \n",
    "    facecolor='orange', lw=2, edgecolor='cyan', linestyle=':'\n",
    ")\n",
    "\n",
    "ax.add_patch(patch)\n",
    "\n",
    "#class matplotlib.patches.Arc(xy, width, height, angle=0.0, theta1=0.0, theta2=360.0, **kwargs)\n",
    "patch = patches.Arc(\n",
    "    (1, 2), 1, 1, \n",
    "    angle=(- 14.034), \n",
    "    theta1=0.0, theta2=90.0, \n",
    "    facecolor='magenta', lw=2, edgecolor='yellow'\n",
    ")\n",
    "ax.add_patch(patch)\n",
    "\n",
    "patch = patches.Arc(\n",
    "    (2, 5), 1, 1, \n",
    "    #33.69, 40.82\n",
    "    # 34.69515353123398 <- angle, 53.13010235415599 <- slope\n",
    "    angle=(- 53.13), \n",
    "    theta1=0.0, theta2=34.695, \n",
    "    #ValueError(\"Arc objects can not be filled\")\n",
    "    #fill=True, \n",
    "    facecolor='blue', lw=1, edgecolor='red'\n",
    ")\n",
    "ax.add_patch(patch)\n",
    "\n",
    "path_data = [\n",
    "    (Path.MOVETO, (1.5, 4.0)),\n",
    "    #(1.723606797749979, 4.447213595499958)\n",
    "    (Path.LINETO, (1.724, 4.447)),\n",
    "    (Path.CURVE3, (2.0, 4.0)),\n",
    "    #(1.8796283011826482, 3.674604313272016)\n",
    "    (Path.CURVE3, (1.88, 3.674)),\n",
    "    (Path.CLOSEPOLY, (1.5, 4.0))\n",
    "]\n",
    "(codes, verts) = zip(*path_data)\n",
    "path = Path(verts, codes)\n",
    "patch = patches.PathPatch(path, facecolor='r', alpha=0.5)\n",
    "ax.add_patch(patch)\n",
    "\n",
    "patch = patches.Arc(\n",
    "    (1.5, 4.0), 0.7, 0.7, \n",
    "    # 104.0362 <- angle, 40.6012 <- slope\n",
    "    angle=(- 40.601), \n",
    "    theta1=0.0, theta2=104.036, \n",
    "    lw=2, edgecolor='blue'\n",
    ")\n",
    "ax.add_patch(patch)\n",
    "\n",
    "ax.set_xlim(0,6)\n",
    "ax.set_ylim(0,6)\n",
    "\n",
    "# returns a Text instance\n",
    "xtext = ax.set_xlabel('x', size='large', color='blue')\n",
    "# rotation [ angle in degrees | ‘vertical’ | ‘horizontal’ ]\n",
    "# [size in points | ‘xx-small’ | ‘x-small’ | ‘small’ | ‘medium’ | ‘large’ | ‘x-large’ | ‘xx-large’ ]\n",
    "ytext = ax.set_ylabel('y', rotation='horizontal', size='x-large', color='blue')\n",
    "ax.set_title('box case 2', family='monospace', color='blue')\n",
    "ax.grid(True)\n",
    "#AttributeError: 'AxesSubplot' object has no attribute 'aspect'\n",
    "ax.set_aspect('equal')"
   ]
  },
  {
   "cell_type": "code",
   "execution_count": 19,
   "metadata": {
    "collapsed": false
   },
   "outputs": [
    {
     "name": "stdout",
     "output_type": "stream",
     "text": [
      "[(1, 2), (1.5, 4.0), (2.0, 1.5), (2.0, 2.0), (2.0, 3.0), (2.0, 4.0), (2.0, 5.0), (3, 1.5), (3, 2.0), (3, 3.0), (3, 4.0), (3, 4.5), (3.5, 4.5), (4, 2), (4, 3), (5, 1)]\n"
     ]
    },
    {
     "data": {
      "text/plain": [
       "(([(1.5, 4.0),\n",
       "   (2.0, 2.0),\n",
       "   (2.0, 3.0),\n",
       "   (2.0, 4.0),\n",
       "   (2.0, 5.0),\n",
       "   (3, 2.0),\n",
       "   (3, 3.0),\n",
       "   (3, 4.0),\n",
       "   (3, 4.5),\n",
       "   (3.5, 4.5),\n",
       "   (4, 2),\n",
       "   (4, 3)],\n",
       "  [(2.0, 1.5)]),\n",
       " 12,\n",
       " 1,\n",
       " (1, 2),\n",
       " (5, 1),\n",
       " False)"
      ]
     },
     "execution_count": 19,
     "metadata": {},
     "output_type": "execute_result"
    }
   ],
   "source": [
    "### unit test ###\n",
    "#test_Points_Xs = [3, 2, 4] \n",
    "#test_Points_Ys = [2, 5, 5]\n",
    "#test_Points_List = zip(test_Points_Xs, test_Points_Ys)\n",
    "\n",
    "test_Points_List = [\n",
    "    [1, 2], \n",
    "    [1.5, 4.0], \n",
    "    [2.0, 1.5], [2.0, 2.0],[2.0, 3.0], [2.0, 4.0], [2.0, 5.0],\n",
    "    [3, 1.5], [3, 2.0], [3, 3.0], [3, 4.0], [3, 4.5],\n",
    "    [3.5, 4.5],\n",
    "    [4, 2], [4, 3],\n",
    "    [5, 1] \n",
    "]\n",
    "test_Points_Coordinates = [Coordinate(pX, pY) for (pX, pY) in test_Points_List]\n",
    "print(test_Points_Coordinates)\n",
    "\n",
    "(min_X_Point, max_X_Point, min_Y_Point) = get_Min_Max_X_Points(test_Points_Coordinates)\n",
    "#((1, 1), (5, 3), (1, 1))\n",
    "#(min_X_Point, max_X_Point, min_Y_Point)\n",
    "expected_Result = ([(2, 5), (3, 3), (2, 2)], [])\n",
    "actual_Result = hull_Candidates(\n",
    "    points_Coordinates_List = test_Points_Coordinates,\n",
    "    upper_Left_Point = min_X_Point,\n",
    "    lower_Right_Point = max_X_Point#,\n",
    "    #is_DEBUG = True\n",
    ")\n",
    "\n",
    "(\n",
    "    actual_Result, len(actual_Result[0]), len(actual_Result[1]),\n",
    "    min_X_Point, max_X_Point,\n",
    "    actual_Result == expected_Result\n",
    ")"
   ]
  },
  {
   "cell_type": "code",
   "execution_count": 13,
   "metadata": {
    "collapsed": false
   },
   "outputs": [
    {
     "data": {
      "text/plain": [
       "__main__.Coordinate"
      ]
     },
     "execution_count": 13,
     "metadata": {},
     "output_type": "execute_result"
    }
   ],
   "source": [
    "upper_Hull_Coordinates = actual_Result[0]\n",
    "type(upper_Hull_Coordinates[0])"
   ]
  },
  {
   "cell_type": "code",
   "execution_count": 68,
   "metadata": {
    "collapsed": false
   },
   "outputs": [
    {
     "data": {
      "text/plain": [
       "[(2.0, 2.0), (2.0, 3.0), (3, 2.0)]"
      ]
     },
     "execution_count": 68,
     "metadata": {},
     "output_type": "execute_result"
    }
   ],
   "source": [
    "upper_Hull_Candidates_Left = [\n",
    "    p for p in actual_Result[0]\n",
    "    if get_Turn_Direction(\n",
    "        point_A = Coordinate(1.5, 4.0), \n",
    "        point_B = Coordinate(5, 1), \n",
    "        point_C = p\n",
    "    ) is Turn_Direction.right\n",
    "]\n",
    "upper_Hull_Candidates_Left"
   ]
  },
  {
   "cell_type": "code",
   "execution_count": 70,
   "metadata": {
    "collapsed": false
   },
   "outputs": [
    {
     "data": {
      "text/plain": [
       "(8,\n",
       " [(2.0, 4.0),\n",
       "  (2.0, 5.0),\n",
       "  (3, 3.0),\n",
       "  (3, 4.0),\n",
       "  (3, 4.5),\n",
       "  (3.5, 4.5),\n",
       "  (4, 2),\n",
       "  (4, 3)])"
      ]
     },
     "execution_count": 70,
     "metadata": {},
     "output_type": "execute_result"
    }
   ],
   "source": [
    "upper_Hull_Candidates_Left = [\n",
    "    p for p in actual_Result[0]\n",
    "    if get_Turn_Direction(\n",
    "        point_A = Coordinate(1.5, 4.0), \n",
    "        point_B = Coordinate(5, 1), \n",
    "        point_C = p\n",
    "    ) is Turn_Direction.left\n",
    "]\n",
    "(\n",
    "    len(upper_Hull_Candidates_Left),\n",
    "    upper_Hull_Candidates_Left\n",
    ")"
   ]
  },
  {
   "cell_type": "code",
   "execution_count": 45,
   "metadata": {
    "collapsed": false
   },
   "outputs": [
    {
     "name": "stdout",
     "output_type": "stream",
     "text": [
      "len(upper_Hull_Candidates): 12, last_Hull_Point: <x: 1, y: 2>\n",
      "hull_Points_List[-1]: <x: 1, y: 2>, next_Hull_Point: <x: 1.5, y: 4.0>, maximum_Slope: 4.0\n",
      "len(upper_Hull_Candidates): 8, last_Hull_Point: <x: 1.5, y: 4.0>\n",
      "hull_Points_List[-1]: <x: 1.5, y: 4.0>, next_Hull_Point: <x: 2.0, y: 5.0>, maximum_Slope: 2.0\n",
      "len(upper_Hull_Candidates): 4, last_Hull_Point: <x: 2.0, y: 5.0>\n",
      "hull_Points_List[-1]: <x: 2.0, y: 5.0>, next_Hull_Point: <x: 3.5, y: 4.5>, maximum_Slope: -0.3333333333333333\n",
      "special case, have only one lower_Hull_Candidates[0]: <x: 2.0, y: 1.5>\n",
      "hull_Points_List:\n",
      "[(1, 2), (1.5, 4.0), (2.0, 5.0), (3.5, 4.5), (5, 1), (2.0, 1.5), (1, 2)]\n"
     ]
    },
    {
     "data": {
      "text/plain": [
       "__main__.Coordinate"
      ]
     },
     "execution_count": 45,
     "metadata": {},
     "output_type": "execute_result"
    }
   ],
   "source": [
    "### unit test ###\n",
    "convex_Hull = convex_Hull_Polygon_Points(\n",
    "    points_Coordinates_List = test_Points_Coordinates,\n",
    "    is_DEBUG = True\n",
    ")\n",
    "type(convex_Hull[0])"
   ]
  },
  {
   "cell_type": "code",
   "execution_count": 43,
   "metadata": {
    "collapsed": false
   },
   "outputs": [
    {
     "data": {
      "image/png": "[encoded data removed]",
      "text/plain": [
       "<matplotlib.figure.Figure at 0x7fe06a689780>"
      ]
     },
     "metadata": {},
     "output_type": "display_data"
    }
   ],
   "source": [
    "fig = pyplot.figure(\n",
    "    1, (6.0, 6.0)\n",
    ")\n",
    "ax = fig.add_subplot(\n",
    "    1,1,1\n",
    ")\n",
    "\n",
    "(xs, ys) = zip(*[(c.x, c.y) for c in convex_Hull])\n",
    "ax.plot(xs, ys, 'bo-')\n",
    "\n",
    "expected_Upper_Hull = [\n",
    "    [1, 2], \n",
    "    [1.5, 4.0], \n",
    "    [2.0, 5.0],\n",
    "    [3.5, 4.5],\n",
    "    [5, 1] \n",
    "]\n",
    "(xs, ys) = zip(*expected_Upper_Hull)\n",
    "ax.plot(xs, ys, 'g-.')\n",
    "\n",
    "expected_Lower_Hull = [\n",
    "    [1, 2], \n",
    "    [2.0, 1.5], \n",
    "    [5, 1] \n",
    "]\n",
    "(xs, ys) = zip(*expected_Lower_Hull)\n",
    "ax.plot(xs, ys, 'c-.')\n",
    "\n",
    "\n",
    "ax.set_xlim(0,6)\n",
    "ax.set_ylim(0,6)\n",
    "ax.set_aspect('equal')\n",
    "ax.grid(True)"
   ]
  },
  {
   "cell_type": "code",
   "execution_count": 7,
   "metadata": {
    "collapsed": false
   },
   "outputs": [
    {
     "data": {
      "text/plain": [
       "1"
      ]
     },
     "execution_count": 7,
     "metadata": {},
     "output_type": "execute_result"
    }
   ],
   "source": [
    "\"\"\"\n",
    "Slope–intercept form\n",
    "y = mx + b,\n",
    "where `m` is \n",
    "the `slope` of the line and \n",
    "`b` is the `y` `intercept`, \n",
    "which is \n",
    "the `y` coordinate of the location \n",
    "where the line crosses the `y` axis. \n",
    "This can be seen by \n",
    "letting (x = 0), \n",
    "which immediately gives (y = b). \n",
    "It may be helpful to think about this in terms of \n",
    "(y = b + mx); \n",
    "where \n",
    "the line passes through the point (0, b) and \n",
    "extends to the `left` and `right` \n",
    "at a `slope` of (m). \n",
    "Vertical lines, \n",
    "having `undefined` `slope`, \n",
    "cannot be represented by this form.\n",
    "\"\"\"\n",
    "1"
   ]
  },
  {
   "cell_type": "code",
   "execution_count": 14,
   "metadata": {
    "collapsed": false
   },
   "outputs": [],
   "source": [
    "\"\"\"\n",
    "Line–line intersection\n",
    "In Euclidean geometry, \n",
    "the intersection of \n",
    "a line and a line \n",
    "can be \n",
    "> the empty set, \n",
    "> a point, or \n",
    "> a line. \n",
    "\n",
    "L1 = [(x1, y1), (x2, y2)]\n",
    "L2 = [(x3, y3), (x3, y3)]\n",
    "intersection P = (Px, Py)\n",
    "(P_x, P_y)= (\n",
    "    (x_1 * y_2 - y_1 * x_2)*(x_3 - x_4)-(x_1 - x_2)*(x_3 * y_4 - y_3 * x_4)/(\n",
    "        (x_1 - x_2)*(y_3 - y_4) - (y_1 - y_2)*(x_3 - x_4)\n",
    "    ), \n",
    "    (x_1 * y_2 - y_1 * x_2)*(y_3 - y_4)-(y_1 - y_2)*(x_3 * y_4 - y_3 * x_4)/(\n",
    "        (x_1 - x_2)*(y_3 - y_4)-(y_1 - y_2)*(x_3 - x_4)\n",
    "    )\n",
    ")\n",
    "\"\"\"\n",
    "def intersection_Line_Line(\n",
    "    #L1 = [(x1, y1), (x2, y2)]\n",
    "    line_1: list,\n",
    "    line_2: list\n",
    ") -> tuple: \n",
    "    \"\"\"\n",
    "    \"\"\"\n",
    "    (P_x, P_y) = (None, None)\n",
    "    result = (P_x, P_y)\n",
    "    (x_1, y_1) = line_1[0]\n",
    "    (x_2, y_2) = line_1[1]\n",
    "    (x_3, y_3) = line_2[0]\n",
    "    (x_4, y_4) = line_2[1]  \n",
    "    \n",
    "    P_x = ((x_1 * y_2 - y_1 * x_2)*(x_3 - x_4)-(x_1 - x_2)*(x_3 * y_4 - y_3 * x_4))/(\n",
    "        (x_1 - x_2)*(y_3 - y_4) - (y_1 - y_2)*(x_3 - x_4)\n",
    "    )\n",
    "    P_y = ((x_1 * y_2 - y_1 * x_2)*(y_3 - y_4)-(y_1 - y_2)*(x_3 * y_4 - y_3 * x_4))/(\n",
    "        (x_1 - x_2)*(y_3 - y_4)-(y_1 - y_2)*(x_3 - x_4)\n",
    "    )\n",
    "    \n",
    "        \n",
    "    return (P_x, P_y)"
   ]
  },
  {
   "cell_type": "code",
   "execution_count": 15,
   "metadata": {
    "collapsed": false
   },
   "outputs": [
    {
     "data": {
      "text/plain": [
       "(2.0, 1.75)"
      ]
     },
     "execution_count": 15,
     "metadata": {},
     "output_type": "execute_result"
    }
   ],
   "source": [
    "### unit test ###\n",
    "intersection_Line_Line(\n",
    "    [(1, 2), (5, 1)],\n",
    "    [(2, 1), (2, 2)]\n",
    ")"
   ]
  },
  {
   "cell_type": "code",
   "execution_count": 31,
   "metadata": {
    "collapsed": false
   },
   "outputs": [],
   "source": [
    "#from math import fabs, pow\n",
    "\n",
    "def intersection_Circle_Line(\n",
    "    #L1 = [(x1, y1), (x2, y2)]\n",
    "    line: list,\n",
    "    radius: float,\n",
    "    center: tuple\n",
    ") -> tuple: \n",
    "    \"\"\"\n",
    "    the incidence of the line and circle\n",
    "    cases:\n",
    "    incidence < 0 => (two imaginary points) no intersection\n",
    "    incidence = 0 => (1 point) tangent\n",
    "    incidence > 0 => (2 points) intersection\n",
    "    \n",
    "    center normalization\n",
    "    relative to origin (0, 0)\n",
    "    \"\"\"\n",
    "    def sign(x: float) -> int:\n",
    "        \"\"\"\n",
    "        \"\"\"\n",
    "        result = -1\n",
    "        if x < 0:\n",
    "            result = -1\n",
    "        else:\n",
    "            result = 1\n",
    "        \n",
    "        return result\n",
    "    \n",
    "    (x, y) = (None, None)\n",
    "    (x_1, y_1) = line[0]\n",
    "    (x_2, y_2) = line[1]\n",
    "    (center_X, center_Y) = center\n",
    "    \n",
    "    x_1 -= center_X\n",
    "    y_1 -= center_Y\n",
    "    x_2 -= center_X\n",
    "    y_2 -= center_Y\n",
    "    \n",
    "    delta_X = x_2 - x_1\n",
    "    delta_Y = y_2 - y_1\n",
    "    delta_R_Squared = pow(delta_X, 2) + pow(delta_Y, 2)\n",
    "    delta_R = pow(delta_R_Squared, 0.5)\n",
    "    determinant = x_1 * y_2 - x_2 * y_1\n",
    "    incidence = pow(radius, 2) * pow(delta_R, 2) - pow(determinant, 2)\n",
    "    result = None\n",
    "    \n",
    "    if incidence < 0:\n",
    "        # no intersection\n",
    "        result = incidence#None\n",
    "    elif incidence == 0:\n",
    "        # tangent (1 point)\n",
    "        x = (\n",
    "            determinant * delta_Y + sign(delta_Y) * delta_X * pow(incidence, 0.5)\n",
    "        ) / delta_R_Squared\n",
    "        y = (\n",
    "            -determinant * delta_X + abs(delta_Y) * pow(incidence, 0.5)\n",
    "        ) / delta_R_Squared\n",
    "        \n",
    "        result = (x + center_X, y + center_Y)\n",
    "    else:\n",
    "        # intersection (2 points)\n",
    "        x_1 = (\n",
    "            determinant * delta_Y + sign(delta_Y) * delta_X * pow(incidence, 0.5)\n",
    "        ) / delta_R_Squared\n",
    "        y_1 = (\n",
    "            -determinant * delta_X + abs(delta_Y) * pow(incidence, 0.5)\n",
    "        ) / delta_R_Squared\n",
    "        x_2 = (\n",
    "            determinant * delta_Y - sign(delta_Y) * delta_X * pow(incidence, 0.5)\n",
    "        ) / delta_R_Squared\n",
    "        y_2 = (\n",
    "            -determinant * delta_X - abs(delta_Y) * pow(incidence, 0.5)\n",
    "        ) / delta_R_Squared\n",
    "        \n",
    "        result = (\n",
    "            (x_1 + center_X, y_1 + center_Y),\n",
    "            (x_2 + center_X, y_2 + center_Y)\n",
    "        )\n",
    "        \n",
    "    \n",
    "    return result"
   ]
  },
  {
   "cell_type": "code",
   "execution_count": 41,
   "metadata": {
    "collapsed": false
   },
   "outputs": [
    {
     "data": {
      "text/plain": [
       "((1.723606797749979, 4.447213595499958),\n",
       " (1.276393202250021, 3.552786404500042))"
      ]
     },
     "execution_count": 41,
     "metadata": {},
     "output_type": "execute_result"
    }
   ],
   "source": [
    "### unit test ###\n",
    "intersection_Circle_Line(\n",
    "    [(2, 5), (1.5, 4)],\n",
    "    0.5,\n",
    "    (1.5, 4)\n",
    ")"
   ]
  },
  {
   "cell_type": "code",
   "execution_count": 87,
   "metadata": {
    "collapsed": false
   },
   "outputs": [
    {
     "data": {
      "text/plain": [
       "((2.353553390593274, 2.353553390593274),\n",
       " (1.6464466094067263, 1.6464466094067263))"
      ]
     },
     "execution_count": 87,
     "metadata": {},
     "output_type": "execute_result"
    }
   ],
   "source": [
    "### unit test ###\n",
    "# r = 1, c = (2, 2), line = [(1, 1), (3, 3)]\n",
    "intersection_Circle_Line(\n",
    "    [(1, 1), (3, 3)],\n",
    "    0.5,\n",
    "    (2, 2)\n",
    ")"
   ]
  },
  {
   "cell_type": "code",
   "execution_count": 60,
   "metadata": {
    "collapsed": false
   },
   "outputs": [
    {
     "data": {
      "image/png": "[encoded data removed]",
      "text/plain": [
       "<matplotlib.figure.Figure at 0x7fa11ee83160>"
      ]
     },
     "metadata": {},
     "output_type": "display_data"
    }
   ],
   "source": [
    "\"\"\"\n",
    "Demo of bar plot on a polar axis.\n",
    "\"\"\"\n",
    "#import numpy as np\n",
    "import matplotlib.pyplot as plt\n",
    "from math import pi#atan2\n",
    "import random\n",
    "\n",
    "\n",
    "N = 20\n",
    "theta = 1 * pi\n",
    "radii = N\n",
    "width = pi / 4 * random.randint(0, N)\n",
    "\n",
    "ax = plt.subplot(111, projection='polar')\n",
    "bar = ax.bar(theta, radii, width=width, bottom=0.0)\n",
    "\n",
    "# Use custom colors and opacity\n",
    "#bar.set_facecolor(plt.cm.jet(radii / 10.))\n",
    "#bar.set_alpha(0.5)\n",
    "\n",
    "plt.show()"
   ]
  },
  {
   "cell_type": "code",
   "execution_count": 61,
   "metadata": {
    "collapsed": false
   },
   "outputs": [
    {
     "data": {
      "text/plain": [
       "(-1.1074797737419919,\n",
       " 1.027940084990864,\n",
       " -1.0246160299958926,\n",
       " 1.0000000049123423)"
      ]
     },
     "execution_count": 61,
     "metadata": {},
     "output_type": "execute_result"
    },
    {
     "data": {
      "image/png": "[encoded data removed]",
      "text/plain": [
       "<matplotlib.figure.Figure at 0x7fa11f3cb320>"
      ]
     },
     "metadata": {},
     "output_type": "display_data"
    }
   ],
   "source": [
    "# The slices will be ordered and plotted counter-clockwise.\n",
    "labels = 'Frogs', 'Hogs', 'Dogs', 'Logs'\n",
    "sizes = [15, 30, 45, 10]\n",
    "colors = ['yellowgreen', 'gold', 'lightskyblue', 'lightcoral']\n",
    "explode = (0, 0.1, 0, 0)  # only \"explode\" the 2nd slice (i.e. 'Hogs')\n",
    "\n",
    "plt.pie(sizes, explode=explode, labels=labels, colors=colors,\n",
    "        autopct='%1.1f%%', shadow=True, startangle=90)\n",
    "# Set aspect ratio to be equal so that pie is drawn as a circle.\n",
    "plt.axis('equal')"
   ]
  },
  {
   "cell_type": "code",
   "execution_count": 67,
   "metadata": {
    "collapsed": false
   },
   "outputs": [
    {
     "data": {
      "text/plain": [
       "([<matplotlib.patches.Wedge at 0x7fa11ed3e6d8>,\n",
       "  <matplotlib.patches.Wedge at 0x7fa11ed123c8>],\n",
       " [<matplotlib.text.Text at 0x7fa11ed3eef0>,\n",
       "  <matplotlib.text.Text at 0x7fa11ed12b70>])"
      ]
     },
     "execution_count": 67,
     "metadata": {},
     "output_type": "execute_result"
    },
    {
     "data": {
      "image/png": "[encoded data removed]",
      "text/plain": [
       "<matplotlib.figure.Figure at 0x7fa11eec2e10>"
      ]
     },
     "metadata": {},
     "output_type": "display_data"
    }
   ],
   "source": [
    "labels = ('Frogs', '')\n",
    "sizes = [15, 25]\n",
    "colors = ['yellowgreen', 'white']\n",
    "explode = (0, 0)\n",
    "\n",
    "plt.pie(\n",
    "    sizes, \n",
    "    #explode=explode, \n",
    "    labels=labels, \n",
    "    colors=colors,\n",
    "    #autopct='%1.1f%%', \n",
    "    shadow=False, \n",
    "    #startangle=90\n",
    ")"
   ]
  },
  {
   "cell_type": "code",
   "execution_count": 20,
   "metadata": {
    "collapsed": false
   },
   "outputs": [
    {
     "name": "stdout",
     "output_type": "stream",
     "text": [
      "hull_Points_List:\n",
      "[(3, 2), (2, 5), (4, 5)]\n"
     ]
    }
   ],
   "source": [
    "### unit test ###\n",
    "#points_XY\n",
    "#xy=(2, 5)\n",
    "#(1, 1), (2, 5), (5, 3)\n",
    "test_Points_Xs = [3, 2, 4] \n",
    "test_Points_Ys = [2, 5, 5]\n",
    "test_Points_List = zip(test_Points_Xs, test_Points_Ys)\n",
    "#test_Points_List = [[1, 1], [2, 5], [3, 3], [5, 3], [3, 2], [2, 2]]\n",
    "test_Points_Coordinates = [Coordinate(pX, pY) for (pX, pY) in test_Points_List]\n",
    "expected_Hull = [(2, 5), (4, 5), (3, 2)]\n",
    "actual_Hull = convex_Hull_Polygon_Points(\n",
    "    points_Coordinates_List = test_Points_Coordinates\n",
    ")"
   ]
  },
  {
   "cell_type": "code",
   "execution_count": 87,
   "metadata": {
    "collapsed": false
   },
   "outputs": [
    {
     "data": {
      "image/png": "[encoded data removed]",
      "text/plain": [
       "<matplotlib.figure.Figure at 0x7fa49627f0b8>"
      ]
     },
     "metadata": {},
     "output_type": "display_data"
    }
   ],
   "source": [
    "# Convex Hull\n",
    "## Test case 2\n",
    "#\n",
    "## Plot the `histogram`\n",
    "#from matplotlib import markers# as plt\n",
    "\n",
    "pyplot.title('a set of points, in 2D plane') \n",
    "pyplot.ylabel('Y', color='green')\n",
    "pyplot.xlabel('X', fontsize=14, color='red')\n",
    "pyplot.axis(\n",
    "    #[0, 105, 0, 105]\n",
    "    [0, 6, 0, 6]\n",
    ")\n",
    "pyplot.grid(True)\n",
    "points_Test_Input2 = \"\"\"\\\n",
    "1 1    \n",
    "2 5    \n",
    "3 3    \n",
    "5 3    \n",
    "3 2    \n",
    "2 2\\\n",
    "\"\"\"\n",
    "points_Xs = [1, 2, 3, 5, 3, 2]\n",
    "points_Ys = [1, 5, 3, 3, 2, 2]\n",
    "pyplot.plot(\n",
    "    points_Xs, \n",
    "    points_Ys,\n",
    "    'go'\n",
    ")\n",
    "#markers.set_marker(marker)\n",
    "#set_markersize(3)\n",
    "pyplot.plot([1], [1], 'm^', markersize=13.0 )\n",
    "# a convex polygon\n",
    "pyplot.plot(\n",
    "    [1, 2, 5, 1], \n",
    "    [1, 5, 3, 1], \n",
    "    color='b'\n",
    ")\n",
    "#if False:    \n",
    "if True:\n",
    "    pyplot.annotate(\n",
    "        'start', \n",
    "        xy=(1, 1), \n",
    "        xytext=(0.2, 0.2),\n",
    "        arrowprops=dict(facecolor='blue', shrink=0.05),\n",
    "    )\n",
    "    for (indx, (x, y)) in enumerate(zip(points_Xs, points_Ys)):\n",
    "        #point\n",
    "        pyplot.annotate(indx + 0, xy=(x, y), xytext=(x + 0.1, y + 0.1))\n",
    "        \n",
    "pyplot.show()"
   ]
  },
  {
   "cell_type": "code",
   "execution_count": 88,
   "metadata": {
    "collapsed": false
   },
   "outputs": [
    {
     "data": {
      "text/plain": [
       "[[1, 1], [2, 5], [3, 3], [5, 3], [3, 2], [2, 2]]"
      ]
     },
     "execution_count": 88,
     "metadata": {},
     "output_type": "execute_result"
    }
   ],
   "source": [
    "t_Points_2 = [[int(elem) for elem in item.strip().split(\" \")] for item in points_Test_Input2.split(\"\\n\")]\n",
    "t_Points_2"
   ]
  },
  {
   "cell_type": "code",
   "execution_count": 50,
   "metadata": {
    "collapsed": false
   },
   "outputs": [
    {
     "data": {
      "text/plain": [
       "[(1, 1), (2, 5), (5, 3)]"
      ]
     },
     "execution_count": 50,
     "metadata": {},
     "output_type": "execute_result"
    }
   ],
   "source": [
    "### unit test ###\n",
    "test_Points_List = [[1, 1], [2, 5], [3, 3], [5, 3], [3, 2], [2, 2]]\n",
    "test_Points_Coordinates = [Coordinate(x, y) for (x, y) in test_Points_List]\n",
    "convex_Hull_Coordinates = convex_Hull_Polygon_Points(\n",
    "    points_Coordinates_List = test_Points_Coordinates,\n",
    "    is_DEBUG = False#True\n",
    ")\n",
    "convex_Hull_Points_List = [(c.x, c.y) for c in convex_Hull_Coordinates]\n",
    "convex_Hull_Points_List"
   ]
  },
  {
   "cell_type": "code",
   "execution_count": 53,
   "metadata": {
    "collapsed": false
   },
   "outputs": [
    {
     "name": "stdout",
     "output_type": "stream",
     "text": [
      "upper_Hull_Candidates: \n",
      "                [], \n",
      "                lower_Hull_Candidates: \n",
      "                [(3, 3), (3, 2), (2, 2)]\n",
      "len(upper_Hull_Candidates): 0, last_Hull_Point: <x: 5, y: 3>\n",
      "hull_Points_List[-1]: <x: 5, y: 3>, next_Hull_Point: <x: 3, y: 3>, minimum_Slope: 0\n",
      "hull_Points_List:\n",
      "[(2, 5), (5, 3), (3, 3), (2, 5)]\n"
     ]
    },
    {
     "data": {
      "text/plain": [
       "[(2, 5), (5, 3), (3, 3), (2, 5)]"
      ]
     },
     "execution_count": 53,
     "metadata": {},
     "output_type": "execute_result"
    }
   ],
   "source": [
    "### unit test ###\n",
    "test_Points_List = [[2, 5], [3, 3], [5, 3], [3, 2], [2, 2]]\n",
    "test_Points_Coordinates = [Coordinate(x, y) for (x, y) in test_Points_List]\n",
    "convex_Hull_Coordinates = convex_Hull_Polygon_Points(\n",
    "    points_Coordinates_List = test_Points_Coordinates,\n",
    "    is_DEBUG = (\n",
    "        #False\n",
    "        True\n",
    "    )\n",
    ")\n",
    "convex_Hull_Points_List = [(c.x, c.y) for c in convex_Hull_Coordinates]\n",
    "expected_Result = [(2, 5), (5, 3), (3, 2), (2, 2), (2, 5)]\n",
    "convex_Hull_Points_List"
   ]
  },
  {
   "cell_type": "code",
   "execution_count": 96,
   "metadata": {
    "collapsed": false
   },
   "outputs": [
    {
     "data": {
      "text/plain": [
       "[(6.0, 0.8621700546672264, [2, 1], [2, 5]),\n",
       " (6.0, 0.3217505543966423, [2, 1], [3, 3]),\n",
       " (10.0, 2.1073424255447017e-08, [2, 1], [5, 3]),\n",
       " (5.0, 2.1073424255447017e-08, [2, 1], [3, 2]),\n",
       " (3.0, 0.3217505543966423, [2, 1], [2, 2])]"
      ]
     },
     "execution_count": 96,
     "metadata": {},
     "output_type": "execute_result"
    }
   ],
   "source": [
    "\"\"\"\n",
    " a ax|bx b\n",
    "  \\  |  /\n",
    " ay\\ | / by\n",
    "    \\|/_________\n",
    "     s(sx, sy) \n",
    "a · b = ax × bx + ay × by\n",
    "\"\"\"\n",
    "# common for both vectors\n",
    "start_Point = Coordinate(1, 1)#[1, 1]\n",
    "x_Vector_End = [2, 1]\n",
    "\"\"\"\n",
    "It is possible to \n",
    "use any function of the angle \n",
    "which is monotonic \n",
    "in the interval [0,pi) \n",
    "\"\"\"\n",
    "# cheking monotonicity\n",
    "dot_Products_List = [\n",
    "    (\n",
    "        vectors_Dot_Product(\n",
    "            x_Vector_End,\n",
    "            [point[0] - start_Point.x, point[1] - start_Point.y]\n",
    "        ),\n",
    "        vectors_Angle_Radian(\n",
    "            x_Vector_End,\n",
    "            [point[0] - start_Point.x, point[1] - start_Point.y]\n",
    "        ),\n",
    "        x_Vector_End,\n",
    "        point\n",
    "    )\n",
    "    for (indx, point) in enumerate(t_Points_2)\n",
    "    if indx > 0\n",
    "] \n",
    "\n",
    "dot_Products_List"
   ]
  },
  {
   "cell_type": "code",
   "execution_count": null,
   "metadata": {
    "collapsed": false
   },
   "outputs": [],
   "source": [
    "### unit test ###\n",
    "# cheking monotonicity\n",
    "dot_Slopes_List = [\n",
    "    (\n",
    "        slope(\n",
    "            start_Point,\n",
    "            Coordinate(point[0], point[1])\n",
    "        ),\n",
    "        point\n",
    "    )\n",
    "    for (indx, point) in enumerate(t_Points_2)\n",
    "    if indx > 0\n",
    "] \n",
    "\"\"\"\n",
    "How to sort results ?\n",
    "for start point -> \n",
    "    ? no negative slops ? (only all above it)\n",
    "#    \n",
    "Starting from \n",
    "the left end of the line and \n",
    "going across to the right is positive \n",
    "(but going across to the left is negative).    \n",
    "#\n",
    "    than (possible) `right`(x > start_X) horizontal (0)\n",
    "    than (x > start_X) increasing positive slope (>0)\n",
    "    than (x == start_X) vertical (None / undefined as Max ?)\n",
    "    than (x < start_X) decreasing negative slope (<0)\n",
    "    than (possible) `left`(x < start_X) horizontal (0)\n",
    "\"\"\"\n",
    "dot_Slopes_List    "
   ]
  },
  {
   "cell_type": "code",
   "execution_count": null,
   "metadata": {
    "collapsed": true
   },
   "outputs": [],
   "source": [
    "# custom comparison function\n",
    "\"\"\"\n",
    "the user supplying a comparison function and \n",
    "you need to \n",
    "convert that to a key function. \n",
    "The following wrapper makes that easy to do:\n",
    "\"\"\"\n",
    "def comparator_To_Key(\n",
    "    custom_Comparator#: callable\n",
    "):# -> class:\n",
    "    \"\"\"\n",
    "    Convert \n",
    "    a cmp= function into a key= function\n",
    "    \n",
    "    To convert to a key function, \n",
    "    just wrap the old comparison function:\n",
    "        >>> sorted([5, 2, 4, 1, 3], key=cmp_to_key(reverse_numeric))\n",
    "        [5, 4, 3, 2, 1]\n",
    "    In Python 3.2, \n",
    "    the `functools.cmp_to_key()` function \n",
    "    was added \n",
    "    to the `functools` module \n",
    "    in the standard library.\n",
    "    \"\"\"\n",
    "    class K:\n",
    "        def __init__(self, obj, *args):\n",
    "            self.obj = obj\n",
    "        def __lt__(self, other):\n",
    "            return custom_Comparator(self.obj, other.obj) < 0\n",
    "        def __gt__(self, other):\n",
    "            return custom_Comparator(self.obj, other.obj) > 0\n",
    "        def __eq__(self, other):\n",
    "            return custom_Comparator(self.obj, other.obj) == 0\n",
    "        def __le__(self, other):\n",
    "            return custom_Comparator(self.obj, other.obj) <= 0\n",
    "        def __ge__(self, other):\n",
    "            return custom_Comparator(self.obj, other.obj) >= 0\n",
    "        def __ne__(self, other):\n",
    "            return custom_Comparator(self.obj, other.obj) != 0\n",
    "        \n",
    "    return K"
   ]
  },
  {
   "cell_type": "code",
   "execution_count": null,
   "metadata": {
    "collapsed": false
   },
   "outputs": [],
   "source": [
    "\"\"\"\n",
    "Quadrants and octants\n",
    "\"\"\"\n",
    "pyplot.title('Quadrants and octants') \n",
    "pyplot.ylabel('Y-axis', color='green')\n",
    "pyplot.xlabel('X-axis', fontsize=14, color='red')\n",
    "pyplot.axis(\n",
    "    [-10, 10, -10, 10],\n",
    "    'equal'\n",
    ")\n",
    "pyplot.axvline(linewidth=4, color='r')\n",
    "pyplot.axvspan(1.25, 1.55, facecolor='g', alpha=0.5)\n",
    "pyplot.axhspan(0.25, 0.75, facecolor='0.5', alpha=0.5)\n",
    "pyplot.axhline(linewidth=4, color='green')\n",
    "pyplot.grid(True)\n",
    "pyplot.annotate(\n",
    "    'I', \n",
    "    xy=(5, 5),\n",
    "    fontsize='xx-large',\n",
    "    family='fantasy',\n",
    "    #xytext=(0.2, 0.2),\n",
    "    #arrowprops=dict(facecolor='blue', shrink=0.05),\n",
    ")\n",
    "pyplot.annotate(\n",
    "    'II', \n",
    "    xy=(-5, 5),\n",
    "    #style or fontstyle\t[ ‘normal’ | ‘italic’ | ‘oblique’]\n",
    "    #fontstyle='oblique'\n",
    "    #font\n",
    "    family='monospace',\n",
    "    fontsize='xx-large',\n",
    "    fontweight='roman',\n",
    "    fontstretch='extra-expanded',\n",
    "    backgroundcolor='yellow'\n",
    ")\n",
    "pyplot.annotate(\n",
    "    'III', \n",
    "    xy=(-5, -5),\n",
    "    family='fantasy',\n",
    "    fontsize='xx-large',\n",
    "    backgroundcolor='yellow'\n",
    ")\n",
    "pyplot.annotate(\n",
    "    'IV', \n",
    "    xy=(5, -5),\n",
    "    family='fantasy',\n",
    "    fontsize='xx-large',\n",
    "    backgroundcolor='yellow'\n",
    ")\n",
    "pyplot.plot([0], [0], 'bo', markersize=13.0 )\n",
    "pyplot.show()"
   ]
  },
  {
   "cell_type": "code",
   "execution_count": 92,
   "metadata": {
    "collapsed": false
   },
   "outputs": [
    {
     "data": {
      "image/png": "[encoded data removed]",
      "text/plain": [
       "<matplotlib.figure.Figure at 0x7fa4961b1c18>"
      ]
     },
     "metadata": {},
     "output_type": "display_data"
    }
   ],
   "source": [
    "from matplotlib.patches import Wedge\n",
    "#from matplotlib.patches import Patch\n",
    "from matplotlib.collections import PatchCollection\n",
    "\n",
    "#import numpy as np\n",
    "#import matplotlib.patches as mpatches\n",
    "\n",
    "# matplotlib's graphics primitives (artists)\n",
    "# create 3x3 grid to plot the artists\n",
    "#grid = np.mgrid[0.2:0.8:3j, 0.2:0.8:3j].reshape(2, -1).T\n",
    "#patches = []\n",
    "\n",
    "# class matplotlib.patches.Wedge(center, r, theta1, theta2, width=None, **kwargs)\n",
    "# add a wedge\n",
    "#wedge = mpatches.Wedge(\n",
    "#    grid[2], \n",
    "#    0.1, 30, 270, \n",
    "#    ec=\"none\"\n",
    "#)\n",
    "#patches.append(wedge)\n",
    "#label(grid[2], \"Wedge\")\n",
    "\n",
    "#class matplotlib.patches.Arc(xy, width, height, angle=0.0, theta1=0.0, theta2=360.0, **kwargs)\n",
    "#draw(artist, renderer, *args, **kwargs)\n",
    "# Draw the Patch to the given renderer\n",
    "\n",
    "(fig, ax) = pyplot.subplots()\n",
    "wedge_1 = Wedge(\n",
    "    (0, 0), 3, 70, 270, \n",
    "    #color='green', \n",
    "    facecolor=\"white\" \n",
    ")\n",
    "wedge_2 = Wedge(\n",
    "    (0, 0), 2, 23, 70, \n",
    "    #color='green', \n",
    "    facecolor=\"white\",\n",
    "    edgecolor=\"red\"\n",
    ")\n",
    "wedge_3 = Wedge(\n",
    "    (0, 0), 4, 0, 23, \n",
    "    #color='green', \n",
    "    facecolor=\"white\", \n",
    "    fill=False\n",
    ")\n",
    "wedge_4 = Wedge(\n",
    "    (2, 5), 2, 25, 247, \n",
    "    #color='green', \n",
    "    #facecolor=\"white\", \n",
    "    #fill=False\n",
    ")\n",
    "ax.add_collection(\n",
    "    PatchCollection([wedge_1, wedge_2, wedge_3, wedge_4])\n",
    ")\n",
    "\n",
    "pyplot.title('case I', family='monospace') \n",
    "pyplot.ylabel('Y-axis', color='green')\n",
    "pyplot.xlabel('X-axis', fontsize=14, color='red')\n",
    "pyplot.axis(\n",
    "    [-10, 10, -10, 10],\n",
    ")\n",
    "pyplot.axis(\n",
    "    'equal'\n",
    ")\n",
    "pyplot.axvline(linewidth=2, color='r')\n",
    "pyplot.axhline(linewidth=2, color='green')\n",
    "pyplot.grid(True)\n",
    "pyplot.annotate(\n",
    "    'I', \n",
    "    xy=(5, 5),\n",
    "    fontsize='xx-large',\n",
    "    family='fantasy',\n",
    "    #xytext=(0.2, 0.2),\n",
    "    #arrowprops=dict(facecolor='blue', shrink=0.05),\n",
    ")\n",
    "pyplot.annotate(\n",
    "    'II', \n",
    "    xy=(-5, 5),\n",
    "    #style or fontstyle\t[ ‘normal’ | ‘italic’ | ‘oblique’]\n",
    "    #fontstyle='oblique'\n",
    "    #font\n",
    "    family='monospace',\n",
    "    fontsize='xx-large',\n",
    "    fontweight='roman',\n",
    "    fontstretch='extra-expanded',\n",
    "    backgroundcolor='yellow'\n",
    ")\n",
    "pyplot.annotate(\n",
    "    'III', \n",
    "    xy=(-5, -5),\n",
    "    family='fantasy',\n",
    "    fontsize='xx-large',\n",
    "    backgroundcolor='yellow'\n",
    ")\n",
    "pyplot.annotate(\n",
    "    'IV', \n",
    "    xy=(5, -5),\n",
    "    family='fantasy',\n",
    "    fontsize='xx-large',\n",
    "    backgroundcolor='yellow'\n",
    ")\n",
    "pyplot.plot([0], [0], 'bo', markersize=10.0 )\n",
    "pyplot.plot([2], [5], 'go', markersize=5.0 )\n",
    "pyplot.plot([5], [2], 'co', markersize=5.0 )\n",
    "pyplot.plot(\n",
    "    [0, 2], \n",
    "    [0, 5], \n",
    "    color='b'\n",
    ")\n",
    "pyplot.plot(\n",
    "    [0, 5], \n",
    "    [0, 2], \n",
    "    color='m'\n",
    ")\n",
    "pyplot.plot(\n",
    "    [0 + 2, 5 + 2], \n",
    "    [0 + 5, 2 + 5], \n",
    "    color='m'\n",
    ")\n",
    "pyplot.plot(\n",
    "    [2, 2 + 2], \n",
    "    [5, 5 + 5], \n",
    "    color='g'\n",
    ")\n",
    "pyplot.axhspan(4.8, 5, facecolor='0.5', alpha=0.5)\n",
    "pyplot.show()"
   ]
  },
  {
   "cell_type": "code",
   "execution_count": 95,
   "metadata": {
    "collapsed": false
   },
   "outputs": [
    {
     "data": {
      "text/plain": [
       "45.00000000000001"
      ]
     },
     "execution_count": 95,
     "metadata": {},
     "output_type": "execute_result"
    }
   ],
   "source": [
    "from math import atan2\n",
    "\n",
    "### iterations ###\n",
    "\"\"\"\n",
    "both vectors start in (0, 0)\n",
    "\"\"\"\n",
    "s0 = [0, 10]# & [0, whatever] as X axis (dimension)\n",
    "polar_Angles_0 = radian_To_Degree(\n",
    "    vectors_Angle_Radian(\n",
    "        s0,\n",
    "        [1, 1]\n",
    "    )\n",
    ")\n",
    "polar_Angles_0"
   ]
  },
  {
   "cell_type": "code",
   "execution_count": null,
   "metadata": {
    "collapsed": false
   },
   "outputs": [],
   "source": [
    "### iterations ###\n",
    "s1 = [1, 1]# & [0, whatever] as X axis (dimension)\n",
    "polar_Angles_1 = [\n",
    "    (\n",
    "        radian_To_Degree(\n",
    "            vectors_Angle_Radian(\n",
    "                s1,\n",
    "                [s[0] - s0[0], s[1] - s0[1]]\n",
    "            )\n",
    "        ),\n",
    "        s\n",
    "    ) for s in t_Points_2\n",
    "    if s != s1\n",
    "]\n",
    "polar_Angles_1"
   ]
  },
  {
   "cell_type": "code",
   "execution_count": null,
   "metadata": {
    "collapsed": false
   },
   "outputs": [],
   "source": [
    "### iterations ###\n",
    "\"\"\"\n",
    "must be next vector end `normalization` \n",
    "to the current start \n",
    "as (0, 0) -> coordinates center\n",
    "\"\"\"\n",
    "s2 = [2, 5]# & [0, whatever] as X axis (dimension)\n",
    "polar_Angles_2 = [\n",
    "    (\n",
    "        radian_To_Degree(\n",
    "            vectors_Angle_Radian(\n",
    "                s2,\n",
    "                [s[0] - s2[0], s[1] - s2[1]]\n",
    "            )\n",
    "        ),\n",
    "        s\n",
    "    ) for s in t_Points_2\n",
    "    if s != s2 and s != s1\n",
    "]\n",
    "\"\"\"\n",
    "(101.88865803962797, [5, 3]) vs.\n",
    "(158.1985905136482, [2, 2])\n",
    "here biggest angle fails\n",
    "so \n",
    "it must be \n",
    "the minimum `left (clockwise) angle`\n",
    "\"\"\"\n",
    "polar_Angles_2"
   ]
  },
  {
   "cell_type": "code",
   "execution_count": null,
   "metadata": {
    "collapsed": false
   },
   "outputs": [],
   "source": [
    "### iterations ###\n",
    "s3 = [5, 3]\n",
    "polar_Angles_3 = [\n",
    "    (\n",
    "        radian_To_Degree(\n",
    "            vectors_Angle_Radian(\n",
    "                s3,\n",
    "                [s[0] - s3[0], s[1] - s3[1]]\n",
    "            )\n",
    "        ),\n",
    "        s\n",
    "    ) for s in t_Points_2\n",
    "    if s != s3 and s != s2\n",
    "]\n",
    "polar_Angles_3"
   ]
  },
  {
   "cell_type": "code",
   "execution_count": null,
   "metadata": {
    "collapsed": false
   },
   "outputs": [],
   "source": [
    "s3 = [5, 3]\n",
    "polar_Angles_3 = [\n",
    "    (\n",
    "        vectors_Angle_Radian(\n",
    "            s3,\n",
    "            [s[0] - s3[0], s[1] - s3[1]]\n",
    "        ),\n",
    "        s\n",
    "    ) for s in t_Points_2\n",
    "    if s != s3 and s != s2\n",
    "]\n",
    "polar_Angles_3"
   ]
  },
  {
   "cell_type": "code",
   "execution_count": null,
   "metadata": {
    "collapsed": false
   },
   "outputs": [],
   "source": [
    "### iterations ###\n",
    "s4 = [3, 2]\n",
    "polar_Angles_4 = [\n",
    "    (\n",
    "        radian_To_Degree(\n",
    "            vectors_Angle_Radian(\n",
    "                s4,\n",
    "                [s[0] - s4[0], s[1] - s4[1]]\n",
    "            )\n",
    "        ),\n",
    "        s\n",
    "    ) for s in t_Points_2\n",
    "    if s != s4 and s != s3\n",
    "]\n",
    "polar_Angles_4"
   ]
  },
  {
   "cell_type": "code",
   "execution_count": null,
   "metadata": {
    "collapsed": false
   },
   "outputs": [],
   "source": [
    "# Geometric interpretation of \n",
    "# the `angle` between two `vectors` X & Y\n",
    "# defined using an `inner product`\n",
    "# math.acos( <X * Y> / (||X|| * ||Y||) )\n",
    "# the dot product (X, Y)\n",
    "# => transpose of X * Y ->\n",
    "# sum of\n",
    "# each row element of X product by \n",
    "# each column element of Y\n",
    "# `inner product spaces` have \n",
    "# a naturally defined `norm` \n",
    "# based upon \n",
    "# the `inner product` of the `space` itself \n",
    "# that does satisfy the `parallelogram equality`\n",
    "# ( related to `Scalar projection` -> of one vector to another )\n",
    "# ||X|| = sqrt(<X * X>)\n",
    "#\n",
    "#\n",
    "#math.acos(x)\n",
    "# Return the arc cosine of x, in radians.\n",
    "#math.hypot(x, y)\n",
    "# Return \n",
    "# the Euclidean `norm`, \n",
    "# sqrt(x*x + y*y). \n",
    "# This is the length of the vector \n",
    "# from the origin to point (x, y).\n",
    "\"\"\" Test \"\"\"\n",
    "from math import acos\n",
    "\n",
    "v1 = [(0, 0), (0, 2)]\n",
    "v2 = [(0, 0), (2, 0)]\n",
    "\"\"\"\n",
    "(0, 2) * (2,\n",
    "          0) = 0 * 2 + 2 * 0 = 0\n",
    "=> 0 / whatever = 0          \n",
    "\"\"\"\n",
    "acos(0) / 180"
   ]
  },
  {
   "cell_type": "code",
   "execution_count": null,
   "metadata": {
    "collapsed": false
   },
   "outputs": [],
   "source": [
    "t_Points_2_Xs = []\n",
    "t_Points_2_Ys = []\n",
    "for (pX, pY) in t_Points_2:\n",
    "    t_Points_2_Xs.append(pX)\n",
    "    t_Points_2_Ys.append(pY)\n",
    "    \n",
    "(t_Points_2_Xs, t_Points_2_Ys)    "
   ]
  },
  {
   "cell_type": "code",
   "execution_count": null,
   "metadata": {
    "collapsed": false
   },
   "outputs": [],
   "source": [
    "list(zip(*t_Points_2))"
   ]
  },
  {
   "cell_type": "code",
   "execution_count": null,
   "metadata": {
    "collapsed": false
   },
   "outputs": [],
   "source": [
    "### unit test ###\n",
    "#points_XY\n",
    "#xy=(1, 1)\n",
    "expected_Hull = [(1, 1), (2, 5), (5, 3)]\n",
    "actual_Hull = convex_Hull_Polygon_Points(\n",
    "    points_Coordinates_List = t_Points_2,\n",
    "    left_Most_Start_Point = (1, 1)\n",
    ")"
   ]
  },
  {
   "cell_type": "code",
   "execution_count": 2,
   "metadata": {
    "collapsed": false
   },
   "outputs": [],
   "source": [
    "# vectors-dot-product\n",
    "# a · b = |a| × |b| × cos(θ)\n",
    "# a · b = ax × bx + ay × by\n",
    "# angle between vectors\n",
    "# using magnitude, or length, of the vector\n",
    "# |a| = √(ax × ax + ay × ay)\n",
    "\n",
    "#math.pi\n",
    "# The mathematical constant π = 3.141592..., \n",
    "# to available precision.\n",
    "from math import acos, pi\n",
    "\n",
    "def vector_Length(vector: list) -> float:\n",
    "    \"\"\"\n",
    "    length relative to the origin (0, 0)\n",
    "    if only one point\n",
    "    as vector's end passed / supplied\n",
    "    \"\"\"\n",
    "    #assert len(vector) > 1\n",
    "    \n",
    "    return sum([c*c for c in vector]) ** 0.5#None\n",
    "\n",
    "def vectors_Dot_Product(\n",
    "    vector_A: list,\n",
    "    vector_B: list\n",
    ") -> float:\n",
    "    \n",
    "    assert (\n",
    "        len(vector_A) > 1 and \n",
    "        len(vector_B) > 1 and \n",
    "        len(vector_A) == len(vector_B))\n",
    "    \n",
    "    result = 0.0#None\n",
    "    \n",
    "    for (indx, elem_A) in enumerate(vector_A):\n",
    "        #TypeError: unsupported operand type(s) for +=: 'NoneType' and 'float'\n",
    "        result += elem_A * vector_B[indx]\n",
    "    \n",
    "    return result#None\n",
    "\n",
    "# a · b = |a| × |b| × cos(θ)\n",
    "# (a · b) / (|a| × |b|) = cos(θ)\n",
    "# θ = math.acos((a · b) / (|a| × |b|))\n",
    "def vectors_Angle_Radian(\n",
    "    vector_A: list,\n",
    "    vector_B: list\n",
    ") -> float:\n",
    "    \n",
    "    vector_Length_A = vector_Length(vector_A)\n",
    "    vector_Length_B = vector_Length(vector_B)\n",
    "    \n",
    "    if False:\n",
    "    #if vector_Length_A == 0 or vector_Length_B == 0:\n",
    "        # ZeroDivisionError: float division by zero\n",
    "        return acos(\n",
    "            #0 -> 90\n",
    "            vectors_Dot_Product(\n",
    "                vector_A,\n",
    "                vector_B\n",
    "            )\n",
    "        )\n",
    "    else:    \n",
    "        return acos(\n",
    "            vectors_Dot_Product(\n",
    "                vector_A,\n",
    "                vector_B\n",
    "            ) / (vector_Length_A * vector_Length_B)\n",
    "        )#None\n",
    "    \n",
    "    try:\n",
    "        #print(1 / 0)\n",
    "        return acos(\n",
    "            vectors_Dot_Product(\n",
    "                vector_A,\n",
    "                vector_B\n",
    "            ) / (vector_Length_A * vector_Length_B)\n",
    "        )#None\n",
    "    #except Exception as exc:\n",
    "        # raise Exception(\"foo occurred\").with_traceback(tracebackobj)\n",
    "        #raise RuntimeError(\"At last one vector has zero length\") from exc\n",
    "    except:\n",
    "        #raise RuntimeError(\"At last one vector has zero length\")\n",
    "        return None\n",
    "\n",
    "\n",
    "# Radian to Degree\n",
    "def radian_To_Degree(\n",
    "    angle_Radian: float,\n",
    ") -> float:\n",
    "    \n",
    "    return angle_Radian / pi * 180"
   ]
  },
  {
   "cell_type": "code",
   "execution_count": 83,
   "metadata": {
    "collapsed": false
   },
   "outputs": [
    {
     "data": {
      "text/plain": [
       "4.0"
      ]
     },
     "execution_count": 83,
     "metadata": {},
     "output_type": "execute_result"
    }
   ],
   "source": [
    "### unit test ###\n",
    "# (1.0, 0.0) => (4, 0)\n",
    "vector_Length([4, 0])"
   ]
  },
  {
   "cell_type": "code",
   "execution_count": 84,
   "metadata": {
    "collapsed": false
   },
   "outputs": [
    {
     "data": {
      "text/plain": [
       "3.0"
      ]
     },
     "execution_count": 84,
     "metadata": {},
     "output_type": "execute_result"
    }
   ],
   "source": [
    "# (1.0, 0.0) => (4, 0)\n",
    "vector_Length([4 - 1, 0 - 0])"
   ]
  },
  {
   "cell_type": "code",
   "execution_count": 85,
   "metadata": {
    "collapsed": false
   },
   "outputs": [
    {
     "data": {
      "text/plain": [
       "4.0"
      ]
     },
     "execution_count": 85,
     "metadata": {},
     "output_type": "execute_result"
    }
   ],
   "source": [
    "# (0.0, -1.0) => (0, 4)\n",
    "vector_Length([0 - 0, 4 - 0])"
   ]
  },
  {
   "cell_type": "code",
   "execution_count": 86,
   "metadata": {
    "collapsed": false
   },
   "outputs": [
    {
     "data": {
      "text/plain": [
       "5.0"
      ]
     },
     "execution_count": 86,
     "metadata": {},
     "output_type": "execute_result"
    }
   ],
   "source": [
    "# (0.0, -1.0) => (0, 4)\n",
    "vector_Length([0 - 0, 4 - (-1)])"
   ]
  },
  {
   "cell_type": "code",
   "execution_count": 88,
   "metadata": {
    "collapsed": false
   },
   "outputs": [
    {
     "data": {
      "text/plain": [
       "0.5006316010800758"
      ]
     },
     "execution_count": 88,
     "metadata": {},
     "output_type": "execute_result"
    }
   ],
   "source": [
    "# (2, 2), (2.353553390593274, 2.353553390593274) -> 0.5\n",
    "vector_Length([2.354 - 2, 2.354 - 2])"
   ]
  },
  {
   "cell_type": "code",
   "execution_count": 78,
   "metadata": {
    "collapsed": false
   },
   "outputs": [
    {
     "data": {
      "text/plain": [
       "5.385164807134504"
      ]
     },
     "execution_count": 78,
     "metadata": {},
     "output_type": "execute_result"
    }
   ],
   "source": [
    "### unit test ###\n",
    "# (1.5, 4.0) => (2, 5) & (5, 1)\n",
    "vector_Length([2, 5])"
   ]
  },
  {
   "cell_type": "code",
   "execution_count": 79,
   "metadata": {
    "collapsed": false
   },
   "outputs": [
    {
     "data": {
      "text/plain": [
       "6.87386354243376"
      ]
     },
     "execution_count": 79,
     "metadata": {},
     "output_type": "execute_result"
    }
   ],
   "source": [
    "vector_Length([1.5, 4.0, 2, 5])"
   ]
  },
  {
   "cell_type": "code",
   "execution_count": 80,
   "metadata": {
    "collapsed": false
   },
   "outputs": [
    {
     "data": {
      "text/plain": [
       "5.0990195135927845"
      ]
     },
     "execution_count": 80,
     "metadata": {},
     "output_type": "execute_result"
    }
   ],
   "source": [
    "vector_Length([5, 1])"
   ]
  },
  {
   "cell_type": "code",
   "execution_count": 81,
   "metadata": {
    "collapsed": false
   },
   "outputs": [
    {
     "data": {
      "text/plain": [
       "6.652067347825035"
      ]
     },
     "execution_count": 81,
     "metadata": {},
     "output_type": "execute_result"
    }
   ],
   "source": [
    "vector_Length([1.5, 4.0, 5, 1])"
   ]
  },
  {
   "cell_type": "code",
   "execution_count": 52,
   "metadata": {
    "collapsed": false
   },
   "outputs": [
    {
     "data": {
      "text/plain": [
       "57.29577951308232"
      ]
     },
     "execution_count": 52,
     "metadata": {},
     "output_type": "execute_result"
    }
   ],
   "source": [
    "### unit test ###\n",
    "expected_Result_Ang_Dgr_1 = 57.2958\n",
    "actual_Result_Ang_Dgr_1 = radian_To_Degree(1)\n",
    "\n",
    "actual_Result_Ang_Dgr_1"
   ]
  },
  {
   "cell_type": "code",
   "execution_count": 53,
   "metadata": {
    "collapsed": false
   },
   "outputs": [
    {
     "data": {
      "text/plain": [
       "45.0"
      ]
     },
     "execution_count": 53,
     "metadata": {},
     "output_type": "execute_result"
    }
   ],
   "source": [
    "### unit test ###\n",
    "vector_A = [0.02, 0.02]\n",
    "vector_B = [0.02, 0.0]\n",
    "expected_Result_Ang_Dgr_2 = 45.0\n",
    "actual_Result_Ang_Dgr_2 = radian_To_Degree(\n",
    "    vectors_Angle_Radian(\n",
    "        vector_A,\n",
    "        vector_B\n",
    "    )\n",
    ")\n",
    "\n",
    "actual_Result_Ang_Dgr_2"
   ]
  },
  {
   "cell_type": "code",
   "execution_count": 115,
   "metadata": {
    "collapsed": false
   },
   "outputs": [
    {
     "data": {
      "text/plain": [
       "53.13010235415599"
      ]
     },
     "execution_count": 115,
     "metadata": {},
     "output_type": "execute_result"
    }
   ],
   "source": [
    "# 34.69515353123398 <- angle, 53.13010235415599 <- slope\n",
    "#(2, 5) <- joint, (3.5, 4.5) & (5, 1), (5, 5) <- base line\n",
    "# just end points -> 58.13402230639631\n",
    "# normalized to origin (0, 0) -> 90.0\n",
    "# 14.036243467926484 <- slope ?\n",
    "#(1, 2) <- joint, (1.5, 4) -> (5, 1) -> (2, 2) <- base line\n",
    "# 104.0362 <- angle, 40.6012 <- slope\n",
    "# joint / center -> (1.5, 4.0) => (2, 5) & (5, 1) <- end points\n",
    "# (5, 4) <- base line\n",
    "\"\"\" providing / supplying / fetching \n",
    "non common end points \"\"\"\n",
    "vector_A = [5.0 - 2.0, 5.0 - 5.0]\n",
    "vector_B = [5.0 - 2.0, 1.0 - 5.0]\n",
    "#expected_Result_Ang_Dgr_2 = 45.0\n",
    "radian_To_Degree(\n",
    "    vectors_Angle_Radian(\n",
    "        vector_A,\n",
    "        vector_B\n",
    "    )\n",
    ")"
   ]
  },
  {
   "cell_type": "code",
   "execution_count": 91,
   "metadata": {
    "collapsed": false
   },
   "outputs": [
    {
     "data": {
      "text/plain": [
       "45.00000000000001"
      ]
     },
     "execution_count": 91,
     "metadata": {},
     "output_type": "execute_result"
    }
   ],
   "source": [
    "# (2, 2), (2.353553390593274, 2.353553390593274) -> 0.5 -> 45 degree(s)\n",
    "# intersection, center\n",
    "joint = (2, 2)\n",
    "vector_A = [2.35 - joint[0], 2.35 - joint[1]]\n",
    "vector_B = [3.0 - joint[0], 2.0 - joint[1]]\n",
    "#expected_Result_Ang_Dgr_2 = 0 #45.0\n",
    "radian_To_Degree(\n",
    "    vectors_Angle_Radian(\n",
    "        vector_A,\n",
    "        vector_B\n",
    "    )\n",
    ")"
   ]
  },
  {
   "cell_type": "code",
   "execution_count": 93,
   "metadata": {
    "collapsed": false
   },
   "outputs": [
    {
     "data": {
      "text/plain": [
       "3.3234018715767735"
      ]
     },
     "execution_count": 93,
     "metadata": {},
     "output_type": "execute_result"
    }
   ],
   "source": [
    "vector_Length([2.35, 2.35])"
   ]
  },
  {
   "cell_type": "code",
   "execution_count": 94,
   "metadata": {
    "collapsed": false
   },
   "outputs": [
    {
     "data": {
      "text/plain": [
       "4.242640687119285"
      ]
     },
     "execution_count": 94,
     "metadata": {},
     "output_type": "execute_result"
    }
   ],
   "source": [
    "vector_Length([3.0, 3.0])"
   ]
  },
  {
   "cell_type": "code",
   "execution_count": 95,
   "metadata": {
    "collapsed": false
   },
   "outputs": [
    {
     "data": {
      "text/plain": [
       "14.1"
      ]
     },
     "execution_count": 95,
     "metadata": {},
     "output_type": "execute_result"
    }
   ],
   "source": [
    "3.3234018715767735 * 4.242640687119285"
   ]
  },
  {
   "cell_type": "code",
   "execution_count": 100,
   "metadata": {
    "collapsed": false
   },
   "outputs": [
    {
     "data": {
      "text/plain": [
       "<Turn_Direction.collinear: 3>"
      ]
     },
     "execution_count": 100,
     "metadata": {},
     "output_type": "execute_result"
    }
   ],
   "source": [
    "get_Turn_Direction(\n",
    "    point_A = Coordinate(2.35, 2.35), \n",
    "    point_B = Coordinate(2.0, 2.0), \n",
    "    point_C = Coordinate(3.0, 3.0)\n",
    ")"
   ]
  },
  {
   "cell_type": "code",
   "execution_count": 92,
   "metadata": {
    "collapsed": false
   },
   "outputs": [
    {
     "ename": "ValueError",
     "evalue": "math domain error",
     "output_type": "error",
     "traceback": [
      "\u001b[1;31m---------------------------------------------------------------------------\u001b[0m",
      "\u001b[1;31mValueError\u001b[0m                                Traceback (most recent call last)",
      "\u001b[1;32m<ipython-input-92-783bece122b1>\u001b[0m in \u001b[0;36m<module>\u001b[1;34m()\u001b[0m\n\u001b[0;32m      6\u001b[0m     vectors_Angle_Radian(\n\u001b[0;32m      7\u001b[0m         \u001b[0mvector_A\u001b[0m\u001b[1;33m,\u001b[0m\u001b[1;33m\u001b[0m\u001b[0m\n\u001b[1;32m----> 8\u001b[1;33m         \u001b[0mvector_B\u001b[0m\u001b[1;33m\u001b[0m\u001b[0m\n\u001b[0m\u001b[0;32m      9\u001b[0m     )\n\u001b[0;32m     10\u001b[0m )\n",
      "\u001b[1;32m<ipython-input-82-0a02303264cc>\u001b[0m in \u001b[0;36mvectors_Angle_Radian\u001b[1;34m(vector_A, vector_B)\u001b[0m\n\u001b[0;32m     65\u001b[0m                 \u001b[0mvector_A\u001b[0m\u001b[1;33m,\u001b[0m\u001b[1;33m\u001b[0m\u001b[0m\n\u001b[0;32m     66\u001b[0m                 \u001b[0mvector_B\u001b[0m\u001b[1;33m\u001b[0m\u001b[0m\n\u001b[1;32m---> 67\u001b[1;33m             ) / (vector_Length_A * vector_Length_B)\n\u001b[0m\u001b[0;32m     68\u001b[0m         )#None\n\u001b[0;32m     69\u001b[0m \u001b[1;33m\u001b[0m\u001b[0m\n",
      "\u001b[1;31mValueError\u001b[0m: math domain error"
     ]
    }
   ],
   "source": [
    "joint = (2, 2)\n",
    "vector_A = [2.35, 2.35]\n",
    "vector_B = [3.0, 3.0]\n",
    "#expected_Result_Ang_Dgr_2 = 0 #45.0\n",
    "radian_To_Degree(\n",
    "    vectors_Angle_Radian(\n",
    "        vector_A,\n",
    "        vector_B\n",
    "    )\n",
    ")"
   ]
  },
  {
   "cell_type": "code",
   "execution_count": 3,
   "metadata": {
    "collapsed": false
   },
   "outputs": [
    {
     "data": {
      "text/plain": [
       "(79.69515353123397, 79.6951)"
      ]
     },
     "execution_count": 3,
     "metadata": {},
     "output_type": "execute_result"
    }
   ],
   "source": [
    "### unit test ###\n",
    "\"\"\"\n",
    "assuming that\n",
    "both vectors starting point is\n",
    "the same point\n",
    "so\n",
    "using only end vectors points\n",
    "for angle calculation\n",
    "\"\"\"\n",
    "vector_A = [4, 3]\n",
    "vector_B = [-0.5, 1.0]\n",
    "expected_Result_Ang_Dgr_3 = [\n",
    "    # angle between A & X\n",
    "    36.8699, \n",
    "    # angle between B & X\n",
    "    116.565, \n",
    "    # angle between A + B & X\n",
    "    48.814\n",
    "]\n",
    "actual_Result_Ang_Dgr_3 = radian_To_Degree(\n",
    "    vectors_Angle_Radian(\n",
    "        vector_A,\n",
    "        vector_B\n",
    "    )\n",
    ")\n",
    "\n",
    "(actual_Result_Ang_Dgr_3, 116.565 - 36.8699)"
   ]
  }
 ],
 "metadata": {
  "kernelspec": {
   "display_name": "Python 3",
   "language": "python",
   "name": "python3"
  },
  "language_info": {
   "codemirror_mode": {
    "name": "ipython",
    "version": 3
   },
   "file_extension": ".py",
   "mimetype": "text/x-python",
   "name": "python",
   "nbconvert_exporter": "python",
   "pygments_lexer": "ipython3",
   "version": "3.4.3"
  }
 },
 "nbformat": 4,
 "nbformat_minor": 0
}
